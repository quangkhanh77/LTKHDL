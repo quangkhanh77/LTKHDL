{
 "cells": [
  {
   "cell_type": "markdown",
   "metadata": {},
   "source": [
    "# Đồ án cuối kỳ môn Lập trình cho Khoa học dữ liệu\n",
    "## Giảng viên hướng dẫn: \n",
    "### Thầy Trần Trung Kiên\n",
    "### Cô Phan Thị Phương Uyên\n",
    "## Sinh viên thực hiện:\n",
    "##### Dương Hoàng Quang Khanh, mã sinh viên: 1712521"
   ]
  },
  {
   "cell_type": "markdown",
   "metadata": {},
   "source": [
    "---"
   ]
  },
  {
   "cell_type": "markdown",
   "metadata": {},
   "source": [
    "## Import các thư viện cần thiết"
   ]
  },
  {
   "cell_type": "code",
   "execution_count": 1,
   "metadata": {
    "ExecuteTime": {
     "end_time": "2020-08-27T10:00:19.033729Z",
     "start_time": "2020-08-27T10:00:18.585612Z"
    }
   },
   "outputs": [],
   "source": [
    "import numpy as np\n",
    "import pandas as pd\n",
    "import matplotlib.pyplot as plt"
   ]
  },
  {
   "cell_type": "markdown",
   "metadata": {},
   "source": [
    "## Về nguồn dữ liệu:\n",
    "Dữ liệu được sử dụng trong bài tập này là dữ liệu về 20 nhóm mặt hàng xuất khẩu và 20 nhóm mặt hàng xuất khẩu chủ lực của Việt Nam với các quốc gia trên thế giới trong giai đoạn 2010-2019. Dữ liệu được thống kê bởi Phòng ban thống kê Liên Hợp Quốc (United Nations Statistics Division) và được em trích xuất và tải về từ trang https://comtrade.un.org/data. Dữ liệu được thống kê theo từng năm và được lưu trong file \"comtrade_data.csv\". "
   ]
  },
  {
   "cell_type": "markdown",
   "metadata": {},
   "source": [
    "## Khám phá dữ liệu\n",
    "### Đọc dữ liệu từ file"
   ]
  },
  {
   "cell_type": "code",
   "execution_count": 2,
   "metadata": {
    "ExecuteTime": {
     "end_time": "2020-08-27T10:00:19.143943Z",
     "start_time": "2020-08-27T10:00:19.035722Z"
    }
   },
   "outputs": [
    {
     "data": {
      "text/html": [
       "<div>\n",
       "<style scoped>\n",
       "    .dataframe tbody tr th:only-of-type {\n",
       "        vertical-align: middle;\n",
       "    }\n",
       "\n",
       "    .dataframe tbody tr th {\n",
       "        vertical-align: top;\n",
       "    }\n",
       "\n",
       "    .dataframe thead th {\n",
       "        text-align: right;\n",
       "    }\n",
       "</style>\n",
       "<table border=\"1\" class=\"dataframe\">\n",
       "  <thead>\n",
       "    <tr style=\"text-align: right;\">\n",
       "      <th></th>\n",
       "      <th>Classification</th>\n",
       "      <th>Year</th>\n",
       "      <th>Period</th>\n",
       "      <th>Period Desc.</th>\n",
       "      <th>Aggregate Level</th>\n",
       "      <th>Trade Flow Code</th>\n",
       "      <th>Trade Flow</th>\n",
       "      <th>Reporter Code</th>\n",
       "      <th>Reporter</th>\n",
       "      <th>Reporter ISO</th>\n",
       "      <th>Partner Code</th>\n",
       "      <th>Partner</th>\n",
       "      <th>Partner ISO</th>\n",
       "      <th>Commodity Code</th>\n",
       "      <th>Commodity</th>\n",
       "      <th>Qty Unit Code</th>\n",
       "      <th>Qty Unit</th>\n",
       "      <th>Qty</th>\n",
       "      <th>Alt Qty Unit Code</th>\n",
       "      <th>Alt Qty Unit</th>\n",
       "      <th>Alt Qty</th>\n",
       "      <th>Netweight (kg)</th>\n",
       "      <th>Gross weight (kg)</th>\n",
       "      <th>Trade Value (US$)</th>\n",
       "      <th>CIF Trade Value (US$)</th>\n",
       "      <th>FOB Trade Value (US$)</th>\n",
       "      <th>Flag</th>\n",
       "    </tr>\n",
       "  </thead>\n",
       "  <tbody>\n",
       "    <tr>\n",
       "      <th>0</th>\n",
       "      <td>H5</td>\n",
       "      <td>2019</td>\n",
       "      <td>2019</td>\n",
       "      <td>2019</td>\n",
       "      <td>2</td>\n",
       "      <td>0</td>\n",
       "      <td>M</td>\n",
       "      <td>704</td>\n",
       "      <td>Viet Nam</td>\n",
       "      <td>VNM</td>\n",
       "      <td>842</td>\n",
       "      <td>USA</td>\n",
       "      <td>USA</td>\n",
       "      <td>2</td>\n",
       "      <td>Meat and edible meat offal</td>\n",
       "      <td>-1</td>\n",
       "      <td>NaN</td>\n",
       "      <td>0.0</td>\n",
       "      <td>-1</td>\n",
       "      <td>NaN</td>\n",
       "      <td>0.0</td>\n",
       "      <td>0.0</td>\n",
       "      <td>0.0</td>\n",
       "      <td>201058755</td>\n",
       "      <td>2.010588e+08</td>\n",
       "      <td>NaN</td>\n",
       "      <td>4</td>\n",
       "    </tr>\n",
       "    <tr>\n",
       "      <th>1</th>\n",
       "      <td>H5</td>\n",
       "      <td>2019</td>\n",
       "      <td>2019</td>\n",
       "      <td>2019</td>\n",
       "      <td>2</td>\n",
       "      <td>0</td>\n",
       "      <td>M</td>\n",
       "      <td>704</td>\n",
       "      <td>Viet Nam</td>\n",
       "      <td>VNM</td>\n",
       "      <td>699</td>\n",
       "      <td>India</td>\n",
       "      <td>IND</td>\n",
       "      <td>2</td>\n",
       "      <td>Meat and edible meat offal</td>\n",
       "      <td>-1</td>\n",
       "      <td>NaN</td>\n",
       "      <td>0.0</td>\n",
       "      <td>-1</td>\n",
       "      <td>NaN</td>\n",
       "      <td>0.0</td>\n",
       "      <td>0.0</td>\n",
       "      <td>0.0</td>\n",
       "      <td>178868209</td>\n",
       "      <td>1.788682e+08</td>\n",
       "      <td>NaN</td>\n",
       "      <td>4</td>\n",
       "    </tr>\n",
       "    <tr>\n",
       "      <th>2</th>\n",
       "      <td>H5</td>\n",
       "      <td>2018</td>\n",
       "      <td>2018</td>\n",
       "      <td>2018</td>\n",
       "      <td>2</td>\n",
       "      <td>0</td>\n",
       "      <td>M</td>\n",
       "      <td>704</td>\n",
       "      <td>Viet Nam</td>\n",
       "      <td>VNM</td>\n",
       "      <td>842</td>\n",
       "      <td>USA</td>\n",
       "      <td>USA</td>\n",
       "      <td>2</td>\n",
       "      <td>Meat and edible meat offal</td>\n",
       "      <td>-1</td>\n",
       "      <td>NaN</td>\n",
       "      <td>0.0</td>\n",
       "      <td>-1</td>\n",
       "      <td>NaN</td>\n",
       "      <td>0.0</td>\n",
       "      <td>0.0</td>\n",
       "      <td>0.0</td>\n",
       "      <td>168236990</td>\n",
       "      <td>1.682370e+08</td>\n",
       "      <td>NaN</td>\n",
       "      <td>4</td>\n",
       "    </tr>\n",
       "    <tr>\n",
       "      <th>3</th>\n",
       "      <td>H4</td>\n",
       "      <td>2017</td>\n",
       "      <td>2017</td>\n",
       "      <td>2017</td>\n",
       "      <td>2</td>\n",
       "      <td>0</td>\n",
       "      <td>M</td>\n",
       "      <td>704</td>\n",
       "      <td>Viet Nam</td>\n",
       "      <td>VNM</td>\n",
       "      <td>842</td>\n",
       "      <td>USA</td>\n",
       "      <td>USA</td>\n",
       "      <td>2</td>\n",
       "      <td>Meat and edible meat offal</td>\n",
       "      <td>-1</td>\n",
       "      <td>NaN</td>\n",
       "      <td>0.0</td>\n",
       "      <td>-1</td>\n",
       "      <td>NaN</td>\n",
       "      <td>0.0</td>\n",
       "      <td>NaN</td>\n",
       "      <td>NaN</td>\n",
       "      <td>123859577</td>\n",
       "      <td>1.238596e+08</td>\n",
       "      <td>NaN</td>\n",
       "      <td>0</td>\n",
       "    </tr>\n",
       "    <tr>\n",
       "      <th>4</th>\n",
       "      <td>H4</td>\n",
       "      <td>2016</td>\n",
       "      <td>2016</td>\n",
       "      <td>2016</td>\n",
       "      <td>2</td>\n",
       "      <td>0</td>\n",
       "      <td>M</td>\n",
       "      <td>704</td>\n",
       "      <td>Viet Nam</td>\n",
       "      <td>VNM</td>\n",
       "      <td>699</td>\n",
       "      <td>India</td>\n",
       "      <td>IND</td>\n",
       "      <td>2</td>\n",
       "      <td>Meat and edible meat offal</td>\n",
       "      <td>-1</td>\n",
       "      <td>NaN</td>\n",
       "      <td>0.0</td>\n",
       "      <td>-1</td>\n",
       "      <td>NaN</td>\n",
       "      <td>0.0</td>\n",
       "      <td>NaN</td>\n",
       "      <td>NaN</td>\n",
       "      <td>103212633</td>\n",
       "      <td>1.032126e+08</td>\n",
       "      <td>NaN</td>\n",
       "      <td>0</td>\n",
       "    </tr>\n",
       "    <tr>\n",
       "      <th>5</th>\n",
       "      <td>H5</td>\n",
       "      <td>2019</td>\n",
       "      <td>2019</td>\n",
       "      <td>2019</td>\n",
       "      <td>2</td>\n",
       "      <td>0</td>\n",
       "      <td>M</td>\n",
       "      <td>704</td>\n",
       "      <td>Viet Nam</td>\n",
       "      <td>VNM</td>\n",
       "      <td>36</td>\n",
       "      <td>Australia</td>\n",
       "      <td>AUS</td>\n",
       "      <td>2</td>\n",
       "      <td>Meat and edible meat offal</td>\n",
       "      <td>-1</td>\n",
       "      <td>NaN</td>\n",
       "      <td>0.0</td>\n",
       "      <td>-1</td>\n",
       "      <td>NaN</td>\n",
       "      <td>0.0</td>\n",
       "      <td>0.0</td>\n",
       "      <td>0.0</td>\n",
       "      <td>98907346</td>\n",
       "      <td>9.890735e+07</td>\n",
       "      <td>NaN</td>\n",
       "      <td>4</td>\n",
       "    </tr>\n",
       "    <tr>\n",
       "      <th>6</th>\n",
       "      <td>H4</td>\n",
       "      <td>2016</td>\n",
       "      <td>2016</td>\n",
       "      <td>2016</td>\n",
       "      <td>2</td>\n",
       "      <td>0</td>\n",
       "      <td>M</td>\n",
       "      <td>704</td>\n",
       "      <td>Viet Nam</td>\n",
       "      <td>VNM</td>\n",
       "      <td>842</td>\n",
       "      <td>USA</td>\n",
       "      <td>USA</td>\n",
       "      <td>2</td>\n",
       "      <td>Meat and edible meat offal</td>\n",
       "      <td>-1</td>\n",
       "      <td>NaN</td>\n",
       "      <td>0.0</td>\n",
       "      <td>-1</td>\n",
       "      <td>NaN</td>\n",
       "      <td>0.0</td>\n",
       "      <td>NaN</td>\n",
       "      <td>NaN</td>\n",
       "      <td>97801353</td>\n",
       "      <td>9.780135e+07</td>\n",
       "      <td>NaN</td>\n",
       "      <td>0</td>\n",
       "    </tr>\n",
       "    <tr>\n",
       "      <th>7</th>\n",
       "      <td>H4</td>\n",
       "      <td>2015</td>\n",
       "      <td>2015</td>\n",
       "      <td>2015</td>\n",
       "      <td>2</td>\n",
       "      <td>0</td>\n",
       "      <td>M</td>\n",
       "      <td>704</td>\n",
       "      <td>Viet Nam</td>\n",
       "      <td>VNM</td>\n",
       "      <td>842</td>\n",
       "      <td>USA</td>\n",
       "      <td>USA</td>\n",
       "      <td>2</td>\n",
       "      <td>Meat and edible meat offal</td>\n",
       "      <td>-1</td>\n",
       "      <td>NaN</td>\n",
       "      <td>NaN</td>\n",
       "      <td>-1</td>\n",
       "      <td>NaN</td>\n",
       "      <td>NaN</td>\n",
       "      <td>NaN</td>\n",
       "      <td>NaN</td>\n",
       "      <td>95843013</td>\n",
       "      <td>9.584301e+07</td>\n",
       "      <td>NaN</td>\n",
       "      <td>0</td>\n",
       "    </tr>\n",
       "    <tr>\n",
       "      <th>8</th>\n",
       "      <td>H5</td>\n",
       "      <td>2018</td>\n",
       "      <td>2018</td>\n",
       "      <td>2018</td>\n",
       "      <td>2</td>\n",
       "      <td>0</td>\n",
       "      <td>M</td>\n",
       "      <td>704</td>\n",
       "      <td>Viet Nam</td>\n",
       "      <td>VNM</td>\n",
       "      <td>699</td>\n",
       "      <td>India</td>\n",
       "      <td>IND</td>\n",
       "      <td>2</td>\n",
       "      <td>Meat and edible meat offal</td>\n",
       "      <td>-1</td>\n",
       "      <td>NaN</td>\n",
       "      <td>0.0</td>\n",
       "      <td>-1</td>\n",
       "      <td>NaN</td>\n",
       "      <td>0.0</td>\n",
       "      <td>0.0</td>\n",
       "      <td>0.0</td>\n",
       "      <td>86784142</td>\n",
       "      <td>8.678414e+07</td>\n",
       "      <td>NaN</td>\n",
       "      <td>4</td>\n",
       "    </tr>\n",
       "    <tr>\n",
       "      <th>9</th>\n",
       "      <td>H3</td>\n",
       "      <td>2011</td>\n",
       "      <td>2011</td>\n",
       "      <td>2011</td>\n",
       "      <td>2</td>\n",
       "      <td>0</td>\n",
       "      <td>M</td>\n",
       "      <td>704</td>\n",
       "      <td>Viet Nam</td>\n",
       "      <td>VNM</td>\n",
       "      <td>842</td>\n",
       "      <td>USA</td>\n",
       "      <td>USA</td>\n",
       "      <td>2</td>\n",
       "      <td>Meat and edible meat offal</td>\n",
       "      <td>-1</td>\n",
       "      <td>NaN</td>\n",
       "      <td>NaN</td>\n",
       "      <td>-1</td>\n",
       "      <td>NaN</td>\n",
       "      <td>NaN</td>\n",
       "      <td>NaN</td>\n",
       "      <td>NaN</td>\n",
       "      <td>86117512</td>\n",
       "      <td>8.611751e+07</td>\n",
       "      <td>NaN</td>\n",
       "      <td>0</td>\n",
       "    </tr>\n",
       "  </tbody>\n",
       "</table>\n",
       "</div>"
      ],
      "text/plain": [
       "  Classification  Year  Period  Period Desc.  Aggregate Level  \\\n",
       "0             H5  2019    2019          2019                2   \n",
       "1             H5  2019    2019          2019                2   \n",
       "2             H5  2018    2018          2018                2   \n",
       "3             H4  2017    2017          2017                2   \n",
       "4             H4  2016    2016          2016                2   \n",
       "5             H5  2019    2019          2019                2   \n",
       "6             H4  2016    2016          2016                2   \n",
       "7             H4  2015    2015          2015                2   \n",
       "8             H5  2018    2018          2018                2   \n",
       "9             H3  2011    2011          2011                2   \n",
       "\n",
       "   Trade Flow Code Trade Flow  Reporter Code  Reporter Reporter ISO  \\\n",
       "0                0          M            704  Viet Nam          VNM   \n",
       "1                0          M            704  Viet Nam          VNM   \n",
       "2                0          M            704  Viet Nam          VNM   \n",
       "3                0          M            704  Viet Nam          VNM   \n",
       "4                0          M            704  Viet Nam          VNM   \n",
       "5                0          M            704  Viet Nam          VNM   \n",
       "6                0          M            704  Viet Nam          VNM   \n",
       "7                0          M            704  Viet Nam          VNM   \n",
       "8                0          M            704  Viet Nam          VNM   \n",
       "9                0          M            704  Viet Nam          VNM   \n",
       "\n",
       "   Partner Code    Partner Partner ISO  Commodity Code  \\\n",
       "0           842        USA         USA               2   \n",
       "1           699      India         IND               2   \n",
       "2           842        USA         USA               2   \n",
       "3           842        USA         USA               2   \n",
       "4           699      India         IND               2   \n",
       "5            36  Australia         AUS               2   \n",
       "6           842        USA         USA               2   \n",
       "7           842        USA         USA               2   \n",
       "8           699      India         IND               2   \n",
       "9           842        USA         USA               2   \n",
       "\n",
       "                    Commodity  Qty Unit Code  Qty Unit  Qty  \\\n",
       "0  Meat and edible meat offal             -1       NaN  0.0   \n",
       "1  Meat and edible meat offal             -1       NaN  0.0   \n",
       "2  Meat and edible meat offal             -1       NaN  0.0   \n",
       "3  Meat and edible meat offal             -1       NaN  0.0   \n",
       "4  Meat and edible meat offal             -1       NaN  0.0   \n",
       "5  Meat and edible meat offal             -1       NaN  0.0   \n",
       "6  Meat and edible meat offal             -1       NaN  0.0   \n",
       "7  Meat and edible meat offal             -1       NaN  NaN   \n",
       "8  Meat and edible meat offal             -1       NaN  0.0   \n",
       "9  Meat and edible meat offal             -1       NaN  NaN   \n",
       "\n",
       "   Alt Qty Unit Code  Alt Qty Unit  Alt Qty  Netweight (kg)  \\\n",
       "0                 -1           NaN      0.0             0.0   \n",
       "1                 -1           NaN      0.0             0.0   \n",
       "2                 -1           NaN      0.0             0.0   \n",
       "3                 -1           NaN      0.0             NaN   \n",
       "4                 -1           NaN      0.0             NaN   \n",
       "5                 -1           NaN      0.0             0.0   \n",
       "6                 -1           NaN      0.0             NaN   \n",
       "7                 -1           NaN      NaN             NaN   \n",
       "8                 -1           NaN      0.0             0.0   \n",
       "9                 -1           NaN      NaN             NaN   \n",
       "\n",
       "   Gross weight (kg)  Trade Value (US$)  CIF Trade Value (US$)  \\\n",
       "0                0.0          201058755           2.010588e+08   \n",
       "1                0.0          178868209           1.788682e+08   \n",
       "2                0.0          168236990           1.682370e+08   \n",
       "3                NaN          123859577           1.238596e+08   \n",
       "4                NaN          103212633           1.032126e+08   \n",
       "5                0.0           98907346           9.890735e+07   \n",
       "6                NaN           97801353           9.780135e+07   \n",
       "7                NaN           95843013           9.584301e+07   \n",
       "8                0.0           86784142           8.678414e+07   \n",
       "9                NaN           86117512           8.611751e+07   \n",
       "\n",
       "   FOB Trade Value (US$)  Flag  \n",
       "0                    NaN     4  \n",
       "1                    NaN     4  \n",
       "2                    NaN     4  \n",
       "3                    NaN     0  \n",
       "4                    NaN     0  \n",
       "5                    NaN     4  \n",
       "6                    NaN     0  \n",
       "7                    NaN     0  \n",
       "8                    NaN     4  \n",
       "9                    NaN     0  "
      ]
     },
     "execution_count": 2,
     "metadata": {},
     "output_type": "execute_result"
    }
   ],
   "source": [
    "pd.set_option('display.max_columns', None) #Giúp hiển thị tất cả các cột của dữ liệu\n",
    "data = pd.read_csv(\"comtrade_data.csv\")\n",
    "data.head(10)"
   ]
  },
  {
   "cell_type": "markdown",
   "metadata": {},
   "source": [
    "### Kích thước của dữ liệu"
   ]
  },
  {
   "cell_type": "code",
   "execution_count": 3,
   "metadata": {
    "ExecuteTime": {
     "end_time": "2020-08-27T10:00:19.150924Z",
     "start_time": "2020-08-27T10:00:19.144939Z"
    }
   },
   "outputs": [
    {
     "name": "stdout",
     "output_type": "stream",
     "text": [
      "(31520, 27)\n"
     ]
    }
   ],
   "source": [
    "print(data.shape)"
   ]
  },
  {
   "cell_type": "markdown",
   "metadata": {},
   "source": [
    "Có thể thấy dữ liệu gồm có 31520 dòng và 28 cột.\n",
    "\n",
    "Mỗi dòng dữ liệu mô tả về giá trị xuất khẩu hoặc nhập khẩu của Việt Nam với một đối tác về một nhóm mặt hàng trong một năm duy nhất.\n",
    "\n",
    "Về mô tả thông tin của mỗi cột xin mời xem mô tả dưới đây:"
   ]
  },
  {
   "cell_type": "markdown",
   "metadata": {},
   "source": [
    "- **Classification**: các phân loại quốc tế áp dụng cho dữ liệu thương mại và thuế quan được đưa ra bởi tổ chức Hải quan thế giới (WCO), H3 áp dụng cho hàng hóa từ 2007 - 2012, H4 là từ 2012 - 2017, và H5 là từ 2017 đến nay.\n",
    "- **Year, Period, Period Desc**: Vì dữ liệu thông kê theo từng năm nên cả ba cột này đều mô tả năm mà dữu liệu được thống kê.\n",
    "- **Aggregate Level**: đề cập đến mức độ chi tiết trong thống kê dữ liệu.\n",
    "- **Trade Flow Code, Trade Flow**: phân biệt giữa mặt hàng xuất khẩu và nhập khẩu. \n",
    "- **Reporter Code, Reporter, Reporter ISO**: lần lượt là Mã số, Tên, Viết tắt của quốc gia được chọn là chủ thể thu thập thông tin. Ở đây là Việt Nam.\n",
    "- **Partner Code, Partner, Partner ISO**: lần lượt là Mã số, Tên Viết tắt của các quốc gia đối tác.\n",
    "- **Qty Unit Code, Qty Unit, Qty, Alt Qty Unit Code, Alt Qty Unit, Alt Qty, Netweight (kg), Gross weight (kg)**: Các cột này nói về các đơn vị số lượng và khối lượng hàng hóa, nhưng vì ở đây người ta chỉ thống kê về giá trị nên cá cột này không mang ý nghĩa.\n",
    "- **Trade Value, CIF Trade Value, FOB Trade Value**: được tính theo US$, là tổng giá trị trong năm đó."
   ]
  },
  {
   "cell_type": "markdown",
   "metadata": {},
   "source": [
    "## Tiền xử lý dữ liệu"
   ]
  },
  {
   "cell_type": "markdown",
   "metadata": {},
   "source": [
    "### Loại bỏ trước một số cột không mang lại giá trị thông tin"
   ]
  },
  {
   "cell_type": "markdown",
   "metadata": {},
   "source": [
    "Các giá trị trong một số cột mà ta xem xét sẽ bỏ."
   ]
  },
  {
   "cell_type": "code",
   "execution_count": 4,
   "metadata": {
    "ExecuteTime": {
     "end_time": "2020-08-27T10:00:19.168876Z",
     "start_time": "2020-08-27T10:00:19.151921Z"
    }
   },
   "outputs": [
    {
     "data": {
      "text/plain": [
       "Classification       [H5, H4, H3]\n",
       "Reporter               [Viet Nam]\n",
       "Reporter Code               [704]\n",
       "Reporter ISO                [VNM]\n",
       "Qty Unit Code                [-1]\n",
       "Qty Unit                    [nan]\n",
       "Qty                    [0.0, nan]\n",
       "Alt Qty Unit Code            [-1]\n",
       "Alt Qty Unit                [nan]\n",
       "Alt Qty                [0.0, nan]\n",
       "Netweight (kg)         [0.0, nan]\n",
       "Gross weight (kg)      [0.0, nan]\n",
       "dtype: object"
      ]
     },
     "execution_count": 4,
     "metadata": {},
     "output_type": "execute_result"
    }
   ],
   "source": [
    "data[\"Classification\"].unique()\n",
    "c = [\"Classification\", \"Reporter\", \"Reporter Code\", \"Reporter ISO\", \"Qty Unit Code\",\n",
    "     \"Qty Unit\", \"Qty\", \"Alt Qty Unit Code\", \"Alt Qty Unit\", \"Alt Qty\", \"Netweight (kg)\", \"Gross weight (kg)\"]\n",
    "unq = pd.Series([data[i].unique() for i in c], index=c)\n",
    "unq"
   ]
  },
  {
   "cell_type": "markdown",
   "metadata": {},
   "source": [
    "- Cột **\"Classification\"** này chỉ có 3 giá trị là 'H3', 'H4', 'H5'. Nó biểu thị cho hàng hóa giao dịch trong giai đoạn nào ứng với 3 giá trị này. Vì trong dữ liệu này ta đã có thông tin về năm giao dịch ở cột **\"Year\"**, thậm chí cột này còn chi tiết về năm hơn, do đó ta có thể bỏ đi cột **\"Classification\"**.\n",
    "- Ba cột **\"Reporter\", \"Reporter ISO\", \"Partner Code\"** đều chỉ chứa 1 giá trị trong mỗi cột (liên quan đến Việt Nam) vì trong dữ liệu này thì Việt Nam là quốc gia được thống kê, do đó ta có thể bỏ giữ lại 1 trong 3 cột này.\n",
    "- Các cột **Qty Unit Code, Qty Unit, Qty, Alt Qty Unit Code, Alt Qty Unit, Alt Qty, Netweight (kg), Gross weight (kg)** chỉ chứ các giá trị không có ý nghĩa nên ta cũng sẽ bỏ.\n",
    "- Ba cột là **\"Year\", \"Period\", \"Period Desc.\"** đều cùng mang một giá trị là năm thống kê nên ta chỉ cần giữ lại một cột là **\"Year\"** và bỏ đi hai cột **\"Period\", \"Period Desc.\"**.\n",
    "- Hai cột cùng biểu diễn các giá trị phân biệt Xuất khẩu với nhập khẩu là **\"Trade Flow Code\"**và **\"Trade Flow\"** chỉ cần giữ lại 1 cột.\n",
    "- Các cột **\"Partner Code\", \"Partner\", \"Partner ISO\"** đều biểu diễn cùng một quốc gia đối tác trên một dòng, nên ta có thể bỏ đi hai cột là **\"Partner Code\", \"Partner ISO\"** và giữ lại cột **\"Partner\"\"**\n",
    "- Một điều đáng lưu ý Mới các mặt hàng nhập khẩu thì **\"Trade value\"** sẽ bằng **\"CIF Trade Value\"**, ngược lại với hàng hóa xuất khẩu thì **\"Trade Value\"** sẽ bằng **\"FOB Trade Value\"**. Dó đó ta chỉ cẩn giữ lại cột **Trade Value**."
   ]
  },
  {
   "cell_type": "markdown",
   "metadata": {},
   "source": [
    "Các cột ta sẽ bỏ đi đó là \"Classification\", \"Reporter\", \"Reporter Code\", \"Reporter ISO\", \"Qty Unit Code\", \"Qty Unit\", \"Qty\", \"Alt Qty Unit Code\", \"Alt Qty Unit\", \"Alt Qty\", \"Netweight (kg)\", \"Gross weight (kg)\",\"Period\", \"Period Desc.\", \"Partner Code\", \"Partner ISO\", \"CIF Trade Value\", \"FOB Trade Value\"."
   ]
  },
  {
   "cell_type": "code",
   "execution_count": 5,
   "metadata": {
    "ExecuteTime": {
     "end_time": "2020-08-27T10:00:19.183836Z",
     "start_time": "2020-08-27T10:00:19.169875Z"
    }
   },
   "outputs": [
    {
     "data": {
      "text/html": [
       "<div>\n",
       "<style scoped>\n",
       "    .dataframe tbody tr th:only-of-type {\n",
       "        vertical-align: middle;\n",
       "    }\n",
       "\n",
       "    .dataframe tbody tr th {\n",
       "        vertical-align: top;\n",
       "    }\n",
       "\n",
       "    .dataframe thead th {\n",
       "        text-align: right;\n",
       "    }\n",
       "</style>\n",
       "<table border=\"1\" class=\"dataframe\">\n",
       "  <thead>\n",
       "    <tr style=\"text-align: right;\">\n",
       "      <th></th>\n",
       "      <th>Year</th>\n",
       "      <th>Aggregate Level</th>\n",
       "      <th>Trade Flow</th>\n",
       "      <th>Reporter</th>\n",
       "      <th>Partner</th>\n",
       "      <th>Commodity Code</th>\n",
       "      <th>Commodity</th>\n",
       "      <th>Trade Value (US$)</th>\n",
       "      <th>Flag</th>\n",
       "    </tr>\n",
       "  </thead>\n",
       "  <tbody>\n",
       "    <tr>\n",
       "      <th>0</th>\n",
       "      <td>2019</td>\n",
       "      <td>2</td>\n",
       "      <td>M</td>\n",
       "      <td>Viet Nam</td>\n",
       "      <td>USA</td>\n",
       "      <td>2</td>\n",
       "      <td>Meat and edible meat offal</td>\n",
       "      <td>201058755</td>\n",
       "      <td>4</td>\n",
       "    </tr>\n",
       "    <tr>\n",
       "      <th>1</th>\n",
       "      <td>2019</td>\n",
       "      <td>2</td>\n",
       "      <td>M</td>\n",
       "      <td>Viet Nam</td>\n",
       "      <td>India</td>\n",
       "      <td>2</td>\n",
       "      <td>Meat and edible meat offal</td>\n",
       "      <td>178868209</td>\n",
       "      <td>4</td>\n",
       "    </tr>\n",
       "    <tr>\n",
       "      <th>2</th>\n",
       "      <td>2018</td>\n",
       "      <td>2</td>\n",
       "      <td>M</td>\n",
       "      <td>Viet Nam</td>\n",
       "      <td>USA</td>\n",
       "      <td>2</td>\n",
       "      <td>Meat and edible meat offal</td>\n",
       "      <td>168236990</td>\n",
       "      <td>4</td>\n",
       "    </tr>\n",
       "    <tr>\n",
       "      <th>3</th>\n",
       "      <td>2017</td>\n",
       "      <td>2</td>\n",
       "      <td>M</td>\n",
       "      <td>Viet Nam</td>\n",
       "      <td>USA</td>\n",
       "      <td>2</td>\n",
       "      <td>Meat and edible meat offal</td>\n",
       "      <td>123859577</td>\n",
       "      <td>0</td>\n",
       "    </tr>\n",
       "    <tr>\n",
       "      <th>4</th>\n",
       "      <td>2016</td>\n",
       "      <td>2</td>\n",
       "      <td>M</td>\n",
       "      <td>Viet Nam</td>\n",
       "      <td>India</td>\n",
       "      <td>2</td>\n",
       "      <td>Meat and edible meat offal</td>\n",
       "      <td>103212633</td>\n",
       "      <td>0</td>\n",
       "    </tr>\n",
       "    <tr>\n",
       "      <th>5</th>\n",
       "      <td>2019</td>\n",
       "      <td>2</td>\n",
       "      <td>M</td>\n",
       "      <td>Viet Nam</td>\n",
       "      <td>Australia</td>\n",
       "      <td>2</td>\n",
       "      <td>Meat and edible meat offal</td>\n",
       "      <td>98907346</td>\n",
       "      <td>4</td>\n",
       "    </tr>\n",
       "    <tr>\n",
       "      <th>6</th>\n",
       "      <td>2016</td>\n",
       "      <td>2</td>\n",
       "      <td>M</td>\n",
       "      <td>Viet Nam</td>\n",
       "      <td>USA</td>\n",
       "      <td>2</td>\n",
       "      <td>Meat and edible meat offal</td>\n",
       "      <td>97801353</td>\n",
       "      <td>0</td>\n",
       "    </tr>\n",
       "    <tr>\n",
       "      <th>7</th>\n",
       "      <td>2015</td>\n",
       "      <td>2</td>\n",
       "      <td>M</td>\n",
       "      <td>Viet Nam</td>\n",
       "      <td>USA</td>\n",
       "      <td>2</td>\n",
       "      <td>Meat and edible meat offal</td>\n",
       "      <td>95843013</td>\n",
       "      <td>0</td>\n",
       "    </tr>\n",
       "    <tr>\n",
       "      <th>8</th>\n",
       "      <td>2018</td>\n",
       "      <td>2</td>\n",
       "      <td>M</td>\n",
       "      <td>Viet Nam</td>\n",
       "      <td>India</td>\n",
       "      <td>2</td>\n",
       "      <td>Meat and edible meat offal</td>\n",
       "      <td>86784142</td>\n",
       "      <td>4</td>\n",
       "    </tr>\n",
       "    <tr>\n",
       "      <th>9</th>\n",
       "      <td>2011</td>\n",
       "      <td>2</td>\n",
       "      <td>M</td>\n",
       "      <td>Viet Nam</td>\n",
       "      <td>USA</td>\n",
       "      <td>2</td>\n",
       "      <td>Meat and edible meat offal</td>\n",
       "      <td>86117512</td>\n",
       "      <td>0</td>\n",
       "    </tr>\n",
       "  </tbody>\n",
       "</table>\n",
       "</div>"
      ],
      "text/plain": [
       "   Year  Aggregate Level Trade Flow  Reporter    Partner  Commodity Code  \\\n",
       "0  2019                2          M  Viet Nam        USA               2   \n",
       "1  2019                2          M  Viet Nam      India               2   \n",
       "2  2018                2          M  Viet Nam        USA               2   \n",
       "3  2017                2          M  Viet Nam        USA               2   \n",
       "4  2016                2          M  Viet Nam      India               2   \n",
       "5  2019                2          M  Viet Nam  Australia               2   \n",
       "6  2016                2          M  Viet Nam        USA               2   \n",
       "7  2015                2          M  Viet Nam        USA               2   \n",
       "8  2018                2          M  Viet Nam      India               2   \n",
       "9  2011                2          M  Viet Nam        USA               2   \n",
       "\n",
       "                    Commodity  Trade Value (US$)  Flag  \n",
       "0  Meat and edible meat offal          201058755     4  \n",
       "1  Meat and edible meat offal          178868209     4  \n",
       "2  Meat and edible meat offal          168236990     4  \n",
       "3  Meat and edible meat offal          123859577     0  \n",
       "4  Meat and edible meat offal          103212633     0  \n",
       "5  Meat and edible meat offal           98907346     4  \n",
       "6  Meat and edible meat offal           97801353     0  \n",
       "7  Meat and edible meat offal           95843013     0  \n",
       "8  Meat and edible meat offal           86784142     4  \n",
       "9  Meat and edible meat offal           86117512     0  "
      ]
     },
     "execution_count": 5,
     "metadata": {},
     "output_type": "execute_result"
    }
   ],
   "source": [
    "drop_cols = [\"Classification\", \"Trade Flow Code\", \"Reporter Code\", \"Reporter ISO\", \"Qty Unit Code\",\n",
    "             \"Qty Unit\", \"Qty\", \"Alt Qty Unit Code\", \"Alt Qty Unit\", \"Alt Qty\", \"Netweight (kg)\", \"Gross weight (kg)\", \n",
    "             \"Period\", \"Period Desc.\", \"Partner Code\", \"Partner ISO\", \"CIF Trade Value (US$)\", \"FOB Trade Value (US$)\"]\n",
    "data.drop(labels=drop_cols, axis=1, inplace=True)\n",
    "data.head(10)"
   ]
  },
  {
   "cell_type": "code",
   "execution_count": 6,
   "metadata": {
    "ExecuteTime": {
     "end_time": "2020-08-27T10:00:19.199793Z",
     "start_time": "2020-08-27T10:00:19.184833Z"
    },
    "scrolled": true
   },
   "outputs": [
    {
     "name": "stdout",
     "output_type": "stream",
     "text": [
      "<class 'pandas.core.frame.DataFrame'>\n",
      "RangeIndex: 31520 entries, 0 to 31519\n",
      "Data columns (total 9 columns):\n",
      " #   Column             Non-Null Count  Dtype \n",
      "---  ------             --------------  ----- \n",
      " 0   Year               31520 non-null  int64 \n",
      " 1   Aggregate Level    31520 non-null  int64 \n",
      " 2   Trade Flow         31520 non-null  object\n",
      " 3   Reporter           31520 non-null  object\n",
      " 4   Partner            31520 non-null  object\n",
      " 5   Commodity Code     31520 non-null  int64 \n",
      " 6   Commodity          31520 non-null  object\n",
      " 7   Trade Value (US$)  31520 non-null  int64 \n",
      " 8   Flag               31520 non-null  int64 \n",
      "dtypes: int64(5), object(4)\n",
      "memory usage: 2.2+ MB\n"
     ]
    }
   ],
   "source": [
    "data.info()"
   ]
  },
  {
   "cell_type": "markdown",
   "metadata": {},
   "source": [
    "Nhìn chung do quá trình thống kê của United Nations Statistics Division là rất kỹ lưỡng nên ngoài không có giá trị nào bị thiếu."
   ]
  },
  {
   "cell_type": "markdown",
   "metadata": {},
   "source": [
    "## Quay lại bước khám phá dữ liệu"
   ]
  },
  {
   "cell_type": "markdown",
   "metadata": {},
   "source": [
    "### Mỗi cột có kiểu dữ liệu gì?"
   ]
  },
  {
   "cell_type": "code",
   "execution_count": 7,
   "metadata": {
    "ExecuteTime": {
     "end_time": "2020-08-27T10:00:19.206775Z",
     "start_time": "2020-08-27T10:00:19.201788Z"
    }
   },
   "outputs": [
    {
     "data": {
      "text/plain": [
       "Year                  int64\n",
       "Aggregate Level       int64\n",
       "Trade Flow           object\n",
       "Reporter             object\n",
       "Partner              object\n",
       "Commodity Code        int64\n",
       "Commodity            object\n",
       "Trade Value (US$)     int64\n",
       "Flag                  int64\n",
       "dtype: object"
      ]
     },
     "execution_count": 7,
     "metadata": {},
     "output_type": "execute_result"
    }
   ],
   "source": [
    "col_dtypes = data.dtypes\n",
    "col_dtypes"
   ]
  },
  {
   "cell_type": "markdown",
   "metadata": {},
   "source": [
    "Ta thấy ngoài các cột có dữ liệu kiểu int thì có 4 cột có dữ liệu là kiểu object. Để xem các cột này có phải chỉ chứa kiểu dữ liệu chuỗi không ta thực hiện như dưới đây:"
   ]
  },
  {
   "cell_type": "code",
   "execution_count": 8,
   "metadata": {
    "ExecuteTime": {
     "end_time": "2020-08-27T10:00:19.990492Z",
     "start_time": "2020-08-27T10:00:19.207773Z"
    }
   },
   "outputs": [
    {
     "name": "stdout",
     "output_type": "stream",
     "text": [
      "Column  Trade Flow  has type:  {<class 'str'>}\n",
      "Column  Reporter  has type:  {<class 'str'>}\n",
      "Column  Partner  has type:  {<class 'str'>}\n",
      "Column  Commodity  has type:  {<class 'str'>}\n"
     ]
    }
   ],
   "source": [
    "object_cols = [\"Trade Flow\", \"Reporter\",\"Partner\", \"Commodity\"]\n",
    "for c in object_cols:\n",
    "    dtypes = set()\n",
    "    for i in range(len(data[c])):\n",
    "        dtypes.add(type(data.loc[i,c]))\n",
    "    print(\"Column \",c,\" has type: \", dtypes)"
   ]
  },
  {
   "cell_type": "markdown",
   "metadata": {},
   "source": [
    "Như vậy là các cột này đều chỉ có kiểu string."
   ]
  },
  {
   "cell_type": "markdown",
   "metadata": {},
   "source": [
    "### Các cột dữ liệu dạng categorical có những giá trị nào?"
   ]
  },
  {
   "cell_type": "code",
   "execution_count": 9,
   "metadata": {
    "ExecuteTime": {
     "end_time": "2020-08-27T10:00:20.010440Z",
     "start_time": "2020-08-27T10:00:19.991489Z"
    }
   },
   "outputs": [
    {
     "data": {
      "text/plain": [
       "Trade Flow          2\n",
       "Reporter            1\n",
       "Partner           176\n",
       "Commodity          34\n",
       "Commodity Code     34\n",
       "dtype: int64"
      ]
     },
     "execution_count": 9,
     "metadata": {},
     "output_type": "execute_result"
    }
   ],
   "source": [
    "NumUniqueVals = pd.Series([len(data[i].unique()) for i in [\"Trade Flow\", \"Reporter\",\"Partner\", \"Commodity\", \"Commodity Code\"]],\n",
    "                          index= [\"Trade Flow\", \"Reporter\",\"Partner\", \"Commodity\", \"Commodity Code\"])\n",
    "NumUniqueVals\n",
    "# data[[\"Partner\"]].value_counts()"
   ]
  },
  {
   "cell_type": "code",
   "execution_count": 10,
   "metadata": {
    "ExecuteTime": {
     "end_time": "2020-08-27T10:00:20.019416Z",
     "start_time": "2020-08-27T10:00:20.012433Z"
    }
   },
   "outputs": [
    {
     "name": "stdout",
     "output_type": "stream",
     "text": [
      "['M' 'X']\n"
     ]
    }
   ],
   "source": [
    "print(data[\"Trade Flow\"].unique())"
   ]
  },
  {
   "cell_type": "markdown",
   "metadata": {},
   "source": [
    "Dữ liệu ở cột **Trade Flow** chỉ có hai giá trị là 'X' và 'M' tương ứng với xuất khẩu (Export) và nhập khẩu (Import). Hai giá trị này có thể sẽ được dùng để tách dữ liệu làm 2 DataFrame cho hàng hóa xuất - nhập khẩu riêng biệt.\n"
   ]
  },
  {
   "cell_type": "markdown",
   "metadata": {},
   "source": [
    "## Đưa ra các câu hỏi cần trả lời từ dữ liệu:"
   ]
  },
  {
   "cell_type": "markdown",
   "metadata": {},
   "source": [
    "- Có 20 nhóm hàng xuất khẩu và 20 nhóm hàng nhập khẩu nhưng tại sao chỉ có 34 gián trị khác nhau ở cột **Commodity?** Như vậy phải có 6 loại hàng hóa nằm ở cả hai danh mục xuất nhập khẩu. Đó là những loại hàng nào, có mã là gì? 6 loại hàng hóa này có mang ý nghĩa gì khi nằm ở cả hai hạng mục.\n",
    "- Trong giai đoạn thống kê trên thì đâu là những quốc gia là đối tác lớn nhất của Việt Nam ở cả thị trường xuất khẩu và nhập khẩu? Nêu ra 3 quốc gia.\n",
    "- Tính theo từng năm hãy chỉ ra 3 nhóm mặt hàng xuất khẩu chủ lực và 3 nhóm mặt hàng nhập khẩu chính.\n",
    "- Trong những năm này thì năm nào Việt Nam là quốc gia Xuất siêu hay Nhập siêu."
   ]
  },
  {
   "cell_type": "code",
   "execution_count": 44,
   "metadata": {
    "ExecuteTime": {
     "end_time": "2020-08-27T10:35:11.530304Z",
     "start_time": "2020-08-27T10:35:11.502378Z"
    }
   },
   "outputs": [
    {
     "name": "stdout",
     "output_type": "stream",
     "text": [
      "-  Glass and glassware\n",
      "-  Plastics and articles thereof\n",
      "-  Electrical machinery and equipment and parts thereof; sound recorders and reproducers; television image and sound recorders and reproducers, parts and accessories of such articles\n",
      "-  Furniture; bedding, mattresses, mattress supports, cushions and similar stuffed furnishings; lamps and lighting fittings, n.e.c.; illuminated signs, illuminated name-plates and the like; prefabricated buildings\n",
      "-  Footwear; gaiters and the like; parts of such articles\n",
      "-  Mineral fuels, mineral oils and products of their distillation; bituminous substances; mineral waxes\n",
      "Mã các loại mặt hàng:  {64, 70, 39, 85, 27, 94}\n"
     ]
    }
   ],
   "source": [
    "ex_commodity_set = set(data[data[\"Trade Flow\"]=='X'][\"Commodity\"].unique())\n",
    "im_commodity_set = set(data[data[\"Trade Flow\"]=='M'][\"Commodity\"].unique())\n",
    "intersect_commodity = ex_commodity_set.intersection(im_commodity_set)\n",
    "for i in intersect_commodity:\n",
    "    print(\"- \", i)\n",
    "ex_commoditycode_set = set(data[data[\"Trade Flow\"]=='X'][\"Commodity Code\"].unique())\n",
    "im_commoditycode_set = set(data[data[\"Trade Flow\"]=='M'][\"Commodity Code\"].unique())\n",
    "intersect_commoditycode = ex_commoditycode_set.intersection(im_commoditycode_set)\n",
    "print(\"Mã các loại mặt hàng: \",intersect_commoditycode)"
   ]
  },
  {
   "cell_type": "code",
   "execution_count": null,
   "metadata": {},
   "outputs": [],
   "source": []
  }
 ],
 "metadata": {
  "kernelspec": {
   "display_name": "Python 3",
   "language": "python",
   "name": "python3"
  },
  "language_info": {
   "codemirror_mode": {
    "name": "ipython",
    "version": 3
   },
   "file_extension": ".py",
   "mimetype": "text/x-python",
   "name": "python",
   "nbconvert_exporter": "python",
   "pygments_lexer": "ipython3",
   "version": "3.7.4"
  }
 },
 "nbformat": 4,
 "nbformat_minor": 2
}
