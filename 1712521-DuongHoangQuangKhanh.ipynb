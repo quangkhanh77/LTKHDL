{
 "cells": [
  {
   "cell_type": "markdown",
   "metadata": {},
   "source": [
    "# Đồ án cuối kỳ môn Lập trình cho Khoa học dữ liệu\n",
    "## Giảng viên hướng dẫn: \n",
    "### Thầy Trần Trung Kiên\n",
    "### Cô Phan Thị Phương Uyên\n",
    "## Sinh viên thực hiện:\n",
    "##### Dương Hoàng Quang Khanh, mã sinh viên: 1712521"
   ]
  },
  {
   "cell_type": "markdown",
   "metadata": {},
   "source": [
    "---"
   ]
  },
  {
   "cell_type": "markdown",
   "metadata": {},
   "source": [
    "## Import các thư viện cần thiết"
   ]
  },
  {
   "cell_type": "code",
   "execution_count": 1,
   "metadata": {
    "ExecuteTime": {
     "end_time": "2020-08-27T04:57:35.234274Z",
     "start_time": "2020-08-27T04:57:34.809322Z"
    }
   },
   "outputs": [],
   "source": [
    "import numpy as np\n",
    "import pandas as pd\n",
    "import matplotlib.pyplot as plt"
   ]
  },
  {
   "cell_type": "markdown",
   "metadata": {},
   "source": [
    "## Về nguồn dữ liệu:\n",
    "Dữ liệu được sử dụng trong bài tập này là dữ liệu về 20 nhóm mặt hàng xuất khẩu và 20 nhóm mặt hàng xuất khẩu chủ lực của Việt Nam với các quốc gia trên thế giới trong giai đoạn 2010-2019. Dữ liệu được thống kê bởi Phòng ban thống kê Liên Hợp Quốc (United Nations Statistics Division) và được em trích xuất và tải về từ trang https://comtrade.un.org/data. Dữ liệu được thống kê theo từng năm và được lưu trong file \"comtrade_data.csv\". "
   ]
  },
  {
   "cell_type": "markdown",
   "metadata": {},
   "source": [
    "## Khám phá dữ liệu\n",
    "### Đọc dữ liệu từ file"
   ]
  },
  {
   "cell_type": "code",
   "execution_count": 14,
   "metadata": {
    "ExecuteTime": {
     "end_time": "2020-08-27T06:45:19.224306Z",
     "start_time": "2020-08-27T06:45:19.126556Z"
    }
   },
   "outputs": [
    {
     "data": {
      "text/html": [
       "<div>\n",
       "<style scoped>\n",
       "    .dataframe tbody tr th:only-of-type {\n",
       "        vertical-align: middle;\n",
       "    }\n",
       "\n",
       "    .dataframe tbody tr th {\n",
       "        vertical-align: top;\n",
       "    }\n",
       "\n",
       "    .dataframe thead th {\n",
       "        text-align: right;\n",
       "    }\n",
       "</style>\n",
       "<table border=\"1\" class=\"dataframe\">\n",
       "  <thead>\n",
       "    <tr style=\"text-align: right;\">\n",
       "      <th></th>\n",
       "      <th>Classification</th>\n",
       "      <th>Year</th>\n",
       "      <th>Period</th>\n",
       "      <th>Period Desc.</th>\n",
       "      <th>Aggregate Level</th>\n",
       "      <th>Trade Flow Code</th>\n",
       "      <th>Trade Flow</th>\n",
       "      <th>Reporter Code</th>\n",
       "      <th>Reporter</th>\n",
       "      <th>Reporter ISO</th>\n",
       "      <th>Partner Code</th>\n",
       "      <th>Partner</th>\n",
       "      <th>Partner ISO</th>\n",
       "      <th>Commodity Code</th>\n",
       "      <th>Commodity</th>\n",
       "      <th>Qty Unit Code</th>\n",
       "      <th>Qty Unit</th>\n",
       "      <th>Qty</th>\n",
       "      <th>Alt Qty Unit Code</th>\n",
       "      <th>Alt Qty Unit</th>\n",
       "      <th>Alt Qty</th>\n",
       "      <th>Netweight (kg)</th>\n",
       "      <th>Gross weight (kg)</th>\n",
       "      <th>Trade Value (US$)</th>\n",
       "      <th>CIF Trade Value (US$)</th>\n",
       "      <th>FOB Trade Value (US$)</th>\n",
       "      <th>Flag</th>\n",
       "    </tr>\n",
       "  </thead>\n",
       "  <tbody>\n",
       "    <tr>\n",
       "      <th>0</th>\n",
       "      <td>H3</td>\n",
       "      <td>2010</td>\n",
       "      <td>2010</td>\n",
       "      <td>2010</td>\n",
       "      <td>2</td>\n",
       "      <td>0</td>\n",
       "      <td>M</td>\n",
       "      <td>704</td>\n",
       "      <td>Viet Nam</td>\n",
       "      <td>VNM</td>\n",
       "      <td>32</td>\n",
       "      <td>Argentina</td>\n",
       "      <td>ARG</td>\n",
       "      <td>2</td>\n",
       "      <td>Meat and edible meat offal</td>\n",
       "      <td>-1</td>\n",
       "      <td>NaN</td>\n",
       "      <td>NaN</td>\n",
       "      <td>-1</td>\n",
       "      <td>NaN</td>\n",
       "      <td>NaN</td>\n",
       "      <td>NaN</td>\n",
       "      <td>NaN</td>\n",
       "      <td>1705860</td>\n",
       "      <td>1705860.0</td>\n",
       "      <td>NaN</td>\n",
       "      <td>0</td>\n",
       "    </tr>\n",
       "    <tr>\n",
       "      <th>1</th>\n",
       "      <td>H3</td>\n",
       "      <td>2010</td>\n",
       "      <td>2010</td>\n",
       "      <td>2010</td>\n",
       "      <td>2</td>\n",
       "      <td>0</td>\n",
       "      <td>M</td>\n",
       "      <td>704</td>\n",
       "      <td>Viet Nam</td>\n",
       "      <td>VNM</td>\n",
       "      <td>36</td>\n",
       "      <td>Australia</td>\n",
       "      <td>AUS</td>\n",
       "      <td>2</td>\n",
       "      <td>Meat and edible meat offal</td>\n",
       "      <td>-1</td>\n",
       "      <td>NaN</td>\n",
       "      <td>NaN</td>\n",
       "      <td>-1</td>\n",
       "      <td>NaN</td>\n",
       "      <td>NaN</td>\n",
       "      <td>NaN</td>\n",
       "      <td>NaN</td>\n",
       "      <td>10492280</td>\n",
       "      <td>10492280.0</td>\n",
       "      <td>NaN</td>\n",
       "      <td>0</td>\n",
       "    </tr>\n",
       "    <tr>\n",
       "      <th>2</th>\n",
       "      <td>H3</td>\n",
       "      <td>2010</td>\n",
       "      <td>2010</td>\n",
       "      <td>2010</td>\n",
       "      <td>2</td>\n",
       "      <td>0</td>\n",
       "      <td>M</td>\n",
       "      <td>704</td>\n",
       "      <td>Viet Nam</td>\n",
       "      <td>VNM</td>\n",
       "      <td>40</td>\n",
       "      <td>Austria</td>\n",
       "      <td>AUT</td>\n",
       "      <td>2</td>\n",
       "      <td>Meat and edible meat offal</td>\n",
       "      <td>-1</td>\n",
       "      <td>NaN</td>\n",
       "      <td>NaN</td>\n",
       "      <td>-1</td>\n",
       "      <td>NaN</td>\n",
       "      <td>NaN</td>\n",
       "      <td>NaN</td>\n",
       "      <td>NaN</td>\n",
       "      <td>99310</td>\n",
       "      <td>99310.0</td>\n",
       "      <td>NaN</td>\n",
       "      <td>0</td>\n",
       "    </tr>\n",
       "    <tr>\n",
       "      <th>3</th>\n",
       "      <td>H3</td>\n",
       "      <td>2010</td>\n",
       "      <td>2010</td>\n",
       "      <td>2010</td>\n",
       "      <td>2</td>\n",
       "      <td>0</td>\n",
       "      <td>M</td>\n",
       "      <td>704</td>\n",
       "      <td>Viet Nam</td>\n",
       "      <td>VNM</td>\n",
       "      <td>76</td>\n",
       "      <td>Brazil</td>\n",
       "      <td>BRA</td>\n",
       "      <td>2</td>\n",
       "      <td>Meat and edible meat offal</td>\n",
       "      <td>-1</td>\n",
       "      <td>NaN</td>\n",
       "      <td>NaN</td>\n",
       "      <td>-1</td>\n",
       "      <td>NaN</td>\n",
       "      <td>NaN</td>\n",
       "      <td>NaN</td>\n",
       "      <td>NaN</td>\n",
       "      <td>5473690</td>\n",
       "      <td>5473690.0</td>\n",
       "      <td>NaN</td>\n",
       "      <td>0</td>\n",
       "    </tr>\n",
       "    <tr>\n",
       "      <th>4</th>\n",
       "      <td>H3</td>\n",
       "      <td>2010</td>\n",
       "      <td>2010</td>\n",
       "      <td>2010</td>\n",
       "      <td>2</td>\n",
       "      <td>0</td>\n",
       "      <td>M</td>\n",
       "      <td>704</td>\n",
       "      <td>Viet Nam</td>\n",
       "      <td>VNM</td>\n",
       "      <td>124</td>\n",
       "      <td>Canada</td>\n",
       "      <td>CAN</td>\n",
       "      <td>2</td>\n",
       "      <td>Meat and edible meat offal</td>\n",
       "      <td>-1</td>\n",
       "      <td>NaN</td>\n",
       "      <td>NaN</td>\n",
       "      <td>-1</td>\n",
       "      <td>NaN</td>\n",
       "      <td>NaN</td>\n",
       "      <td>NaN</td>\n",
       "      <td>NaN</td>\n",
       "      <td>552850</td>\n",
       "      <td>552850.0</td>\n",
       "      <td>NaN</td>\n",
       "      <td>0</td>\n",
       "    </tr>\n",
       "  </tbody>\n",
       "</table>\n",
       "</div>"
      ],
      "text/plain": [
       "  Classification  Year  Period  Period Desc.  Aggregate Level  \\\n",
       "0             H3  2010    2010          2010                2   \n",
       "1             H3  2010    2010          2010                2   \n",
       "2             H3  2010    2010          2010                2   \n",
       "3             H3  2010    2010          2010                2   \n",
       "4             H3  2010    2010          2010                2   \n",
       "\n",
       "   Trade Flow Code Trade Flow  Reporter Code  Reporter Reporter ISO  \\\n",
       "0                0          M            704  Viet Nam          VNM   \n",
       "1                0          M            704  Viet Nam          VNM   \n",
       "2                0          M            704  Viet Nam          VNM   \n",
       "3                0          M            704  Viet Nam          VNM   \n",
       "4                0          M            704  Viet Nam          VNM   \n",
       "\n",
       "   Partner Code    Partner Partner ISO  Commodity Code  \\\n",
       "0            32  Argentina         ARG               2   \n",
       "1            36  Australia         AUS               2   \n",
       "2            40    Austria         AUT               2   \n",
       "3            76     Brazil         BRA               2   \n",
       "4           124     Canada         CAN               2   \n",
       "\n",
       "                    Commodity  Qty Unit Code  Qty Unit  Qty  \\\n",
       "0  Meat and edible meat offal             -1       NaN  NaN   \n",
       "1  Meat and edible meat offal             -1       NaN  NaN   \n",
       "2  Meat and edible meat offal             -1       NaN  NaN   \n",
       "3  Meat and edible meat offal             -1       NaN  NaN   \n",
       "4  Meat and edible meat offal             -1       NaN  NaN   \n",
       "\n",
       "   Alt Qty Unit Code  Alt Qty Unit  Alt Qty  Netweight (kg)  \\\n",
       "0                 -1           NaN      NaN             NaN   \n",
       "1                 -1           NaN      NaN             NaN   \n",
       "2                 -1           NaN      NaN             NaN   \n",
       "3                 -1           NaN      NaN             NaN   \n",
       "4                 -1           NaN      NaN             NaN   \n",
       "\n",
       "   Gross weight (kg)  Trade Value (US$)  CIF Trade Value (US$)  \\\n",
       "0                NaN            1705860              1705860.0   \n",
       "1                NaN           10492280             10492280.0   \n",
       "2                NaN              99310                99310.0   \n",
       "3                NaN            5473690              5473690.0   \n",
       "4                NaN             552850               552850.0   \n",
       "\n",
       "   FOB Trade Value (US$)  Flag  \n",
       "0                    NaN     0  \n",
       "1                    NaN     0  \n",
       "2                    NaN     0  \n",
       "3                    NaN     0  \n",
       "4                    NaN     0  "
      ]
     },
     "execution_count": 14,
     "metadata": {},
     "output_type": "execute_result"
    }
   ],
   "source": [
    "pd.set_option('display.max_columns', None) #Giúp hiển thị tất cả các cột của dữ liệu\n",
    "data = pd.read_csv(\"comtrade_data.csv\")\n",
    "data.head(5)"
   ]
  },
  {
   "cell_type": "markdown",
   "metadata": {},
   "source": [
    "### Kích thước của dữ liệu"
   ]
  },
  {
   "cell_type": "code",
   "execution_count": 9,
   "metadata": {
    "ExecuteTime": {
     "end_time": "2020-08-27T05:27:45.409479Z",
     "start_time": "2020-08-27T05:27:45.404491Z"
    }
   },
   "outputs": [
    {
     "name": "stdout",
     "output_type": "stream",
     "text": [
      "(31520, 28)\n"
     ]
    }
   ],
   "source": [
    "print(data.shape)"
   ]
  },
  {
   "cell_type": "markdown",
   "metadata": {},
   "source": [
    "Có thể thấy dữ liệu gồm có 31520 dòng và 28 cột.\n",
    "\n",
    "Mỗi dòng dữ liệu mô tả về giá trị xuất khẩu hoặc nhập khẩu của Việt Nam với một đối tác về một nhóm mặt hàng trong một năm duy nhất.\n",
    "\n",
    "Về mô tả thông tin của mỗi cột xin mời xem mô tả dưới đây:"
   ]
  },
  {
   "cell_type": "markdown",
   "metadata": {},
   "source": [
    "- **Classification**: các phân loại quốc tế áp dụng cho dữ liệu thương mại và thuế quan được đưa ra bởi tổ chức Hải quan thế giới (WCO), H3 áp dụng cho hàng hóa từ 2007 - 2012, H4 là từ 2012 - 2017, và H5 là từ 2017 đến nay.\n",
    "- **Year, Period, Period Desc**: Vì dữ liệu thông kê theo từng năm nên cả ba cột này đều mô tả năm mà dữu liệu được thống kê.\n",
    "- **Aggregate Level**: đề cập đến mức độ chi tiết trong thống kê dữ liệu.\n",
    "- **Trade Flow Code, Trade Flow**: "
   ]
  },
  {
   "cell_type": "code",
   "execution_count": 13,
   "metadata": {
    "ExecuteTime": {
     "end_time": "2020-08-27T06:35:54.511471Z",
     "start_time": "2020-08-27T06:35:54.505487Z"
    }
   },
   "outputs": [
    {
     "data": {
      "text/plain": [
       "array([0], dtype=int64)"
      ]
     },
     "execution_count": 13,
     "metadata": {},
     "output_type": "execute_result"
    }
   ],
   "source": [
    "data[\"Is Leaf Code\"].unique()"
   ]
  }
 ],
 "metadata": {
  "kernelspec": {
   "display_name": "Python 3",
   "language": "python",
   "name": "python3"
  },
  "language_info": {
   "codemirror_mode": {
    "name": "ipython",
    "version": 3
   },
   "file_extension": ".py",
   "mimetype": "text/x-python",
   "name": "python",
   "nbconvert_exporter": "python",
   "pygments_lexer": "ipython3",
   "version": "3.7.4"
  }
 },
 "nbformat": 4,
 "nbformat_minor": 2
}
