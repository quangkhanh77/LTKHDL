{
 "cells": [
  {
   "cell_type": "markdown",
   "metadata": {},
   "source": [
    "# Đồ án cuối kỳ môn Lập trình cho Khoa học dữ liệu\n",
    "## Giảng viên hướng dẫn: \n",
    "### Thầy Trần Trung Kiên\n",
    "### Cô Phan Thị Phương Uyên\n",
    "## Sinh viên thực hiện:\n",
    "##### Dương Hoàng Quang Khanh, mã sinh viên: 1712521"
   ]
  },
  {
   "cell_type": "markdown",
   "metadata": {},
   "source": [
    "---"
   ]
  },
  {
   "cell_type": "markdown",
   "metadata": {},
   "source": [
    "## Import các thư viện cần thiết"
   ]
  },
  {
   "cell_type": "code",
   "execution_count": 1,
   "metadata": {
    "ExecuteTime": {
     "end_time": "2020-08-27T20:45:53.247823Z",
     "start_time": "2020-08-27T20:45:52.744592Z"
    }
   },
   "outputs": [],
   "source": [
    "import numpy as np\n",
    "import pandas as pd\n",
    "import matplotlib.pyplot as plt"
   ]
  },
  {
   "cell_type": "markdown",
   "metadata": {},
   "source": [
    "## Về nguồn dữ liệu:\n",
    "Dữ liệu được sử dụng trong bài tập này là dữ liệu về 20 nhóm mặt hàng xuất khẩu và 20 nhóm mặt hàng xuất khẩu chủ lực của Việt Nam với các quốc gia trên thế giới trong giai đoạn 2010-2019. Dữ liệu được thống kê bởi Phòng ban thống kê Liên Hợp Quốc (United Nations Statistics Division) và được em trích xuất và tải về từ trang https://comtrade.un.org/data. Dữ liệu được thống kê theo từng năm và được lưu trong file \"comtrade_data.csv\". "
   ]
  },
  {
   "cell_type": "markdown",
   "metadata": {},
   "source": [
    "## Khám phá dữ liệu\n",
    "### Đọc dữ liệu từ file"
   ]
  },
  {
   "cell_type": "code",
   "execution_count": 2,
   "metadata": {
    "ExecuteTime": {
     "end_time": "2020-08-27T20:45:53.360017Z",
     "start_time": "2020-08-27T20:45:53.248755Z"
    }
   },
   "outputs": [
    {
     "data": {
      "text/html": [
       "<div>\n",
       "<style scoped>\n",
       "    .dataframe tbody tr th:only-of-type {\n",
       "        vertical-align: middle;\n",
       "    }\n",
       "\n",
       "    .dataframe tbody tr th {\n",
       "        vertical-align: top;\n",
       "    }\n",
       "\n",
       "    .dataframe thead th {\n",
       "        text-align: right;\n",
       "    }\n",
       "</style>\n",
       "<table border=\"1\" class=\"dataframe\">\n",
       "  <thead>\n",
       "    <tr style=\"text-align: right;\">\n",
       "      <th></th>\n",
       "      <th>Classification</th>\n",
       "      <th>Year</th>\n",
       "      <th>Period</th>\n",
       "      <th>Period Desc.</th>\n",
       "      <th>Aggregate Level</th>\n",
       "      <th>Trade Flow Code</th>\n",
       "      <th>Trade Flow</th>\n",
       "      <th>Reporter Code</th>\n",
       "      <th>Reporter</th>\n",
       "      <th>Reporter ISO</th>\n",
       "      <th>Partner Code</th>\n",
       "      <th>Partner</th>\n",
       "      <th>Partner ISO</th>\n",
       "      <th>Commodity Code</th>\n",
       "      <th>Commodity</th>\n",
       "      <th>Qty Unit Code</th>\n",
       "      <th>Qty Unit</th>\n",
       "      <th>Qty</th>\n",
       "      <th>Alt Qty Unit Code</th>\n",
       "      <th>Alt Qty Unit</th>\n",
       "      <th>Alt Qty</th>\n",
       "      <th>Netweight (kg)</th>\n",
       "      <th>Gross weight (kg)</th>\n",
       "      <th>Trade Value (US$)</th>\n",
       "      <th>CIF Trade Value (US$)</th>\n",
       "      <th>FOB Trade Value (US$)</th>\n",
       "      <th>Flag</th>\n",
       "    </tr>\n",
       "  </thead>\n",
       "  <tbody>\n",
       "    <tr>\n",
       "      <th>0</th>\n",
       "      <td>H5</td>\n",
       "      <td>2019</td>\n",
       "      <td>2019</td>\n",
       "      <td>2019</td>\n",
       "      <td>2</td>\n",
       "      <td>0</td>\n",
       "      <td>M</td>\n",
       "      <td>704</td>\n",
       "      <td>Viet Nam</td>\n",
       "      <td>VNM</td>\n",
       "      <td>842</td>\n",
       "      <td>USA</td>\n",
       "      <td>USA</td>\n",
       "      <td>2</td>\n",
       "      <td>Meat and edible meat offal</td>\n",
       "      <td>-1</td>\n",
       "      <td>NaN</td>\n",
       "      <td>0.0</td>\n",
       "      <td>-1</td>\n",
       "      <td>NaN</td>\n",
       "      <td>0.0</td>\n",
       "      <td>0.0</td>\n",
       "      <td>0.0</td>\n",
       "      <td>201058755</td>\n",
       "      <td>2.010588e+08</td>\n",
       "      <td>NaN</td>\n",
       "      <td>4</td>\n",
       "    </tr>\n",
       "    <tr>\n",
       "      <th>1</th>\n",
       "      <td>H5</td>\n",
       "      <td>2019</td>\n",
       "      <td>2019</td>\n",
       "      <td>2019</td>\n",
       "      <td>2</td>\n",
       "      <td>0</td>\n",
       "      <td>M</td>\n",
       "      <td>704</td>\n",
       "      <td>Viet Nam</td>\n",
       "      <td>VNM</td>\n",
       "      <td>699</td>\n",
       "      <td>India</td>\n",
       "      <td>IND</td>\n",
       "      <td>2</td>\n",
       "      <td>Meat and edible meat offal</td>\n",
       "      <td>-1</td>\n",
       "      <td>NaN</td>\n",
       "      <td>0.0</td>\n",
       "      <td>-1</td>\n",
       "      <td>NaN</td>\n",
       "      <td>0.0</td>\n",
       "      <td>0.0</td>\n",
       "      <td>0.0</td>\n",
       "      <td>178868209</td>\n",
       "      <td>1.788682e+08</td>\n",
       "      <td>NaN</td>\n",
       "      <td>4</td>\n",
       "    </tr>\n",
       "    <tr>\n",
       "      <th>2</th>\n",
       "      <td>H5</td>\n",
       "      <td>2018</td>\n",
       "      <td>2018</td>\n",
       "      <td>2018</td>\n",
       "      <td>2</td>\n",
       "      <td>0</td>\n",
       "      <td>M</td>\n",
       "      <td>704</td>\n",
       "      <td>Viet Nam</td>\n",
       "      <td>VNM</td>\n",
       "      <td>842</td>\n",
       "      <td>USA</td>\n",
       "      <td>USA</td>\n",
       "      <td>2</td>\n",
       "      <td>Meat and edible meat offal</td>\n",
       "      <td>-1</td>\n",
       "      <td>NaN</td>\n",
       "      <td>0.0</td>\n",
       "      <td>-1</td>\n",
       "      <td>NaN</td>\n",
       "      <td>0.0</td>\n",
       "      <td>0.0</td>\n",
       "      <td>0.0</td>\n",
       "      <td>168236990</td>\n",
       "      <td>1.682370e+08</td>\n",
       "      <td>NaN</td>\n",
       "      <td>4</td>\n",
       "    </tr>\n",
       "    <tr>\n",
       "      <th>3</th>\n",
       "      <td>H4</td>\n",
       "      <td>2017</td>\n",
       "      <td>2017</td>\n",
       "      <td>2017</td>\n",
       "      <td>2</td>\n",
       "      <td>0</td>\n",
       "      <td>M</td>\n",
       "      <td>704</td>\n",
       "      <td>Viet Nam</td>\n",
       "      <td>VNM</td>\n",
       "      <td>842</td>\n",
       "      <td>USA</td>\n",
       "      <td>USA</td>\n",
       "      <td>2</td>\n",
       "      <td>Meat and edible meat offal</td>\n",
       "      <td>-1</td>\n",
       "      <td>NaN</td>\n",
       "      <td>0.0</td>\n",
       "      <td>-1</td>\n",
       "      <td>NaN</td>\n",
       "      <td>0.0</td>\n",
       "      <td>NaN</td>\n",
       "      <td>NaN</td>\n",
       "      <td>123859577</td>\n",
       "      <td>1.238596e+08</td>\n",
       "      <td>NaN</td>\n",
       "      <td>0</td>\n",
       "    </tr>\n",
       "    <tr>\n",
       "      <th>4</th>\n",
       "      <td>H4</td>\n",
       "      <td>2016</td>\n",
       "      <td>2016</td>\n",
       "      <td>2016</td>\n",
       "      <td>2</td>\n",
       "      <td>0</td>\n",
       "      <td>M</td>\n",
       "      <td>704</td>\n",
       "      <td>Viet Nam</td>\n",
       "      <td>VNM</td>\n",
       "      <td>699</td>\n",
       "      <td>India</td>\n",
       "      <td>IND</td>\n",
       "      <td>2</td>\n",
       "      <td>Meat and edible meat offal</td>\n",
       "      <td>-1</td>\n",
       "      <td>NaN</td>\n",
       "      <td>0.0</td>\n",
       "      <td>-1</td>\n",
       "      <td>NaN</td>\n",
       "      <td>0.0</td>\n",
       "      <td>NaN</td>\n",
       "      <td>NaN</td>\n",
       "      <td>103212633</td>\n",
       "      <td>1.032126e+08</td>\n",
       "      <td>NaN</td>\n",
       "      <td>0</td>\n",
       "    </tr>\n",
       "    <tr>\n",
       "      <th>5</th>\n",
       "      <td>H5</td>\n",
       "      <td>2019</td>\n",
       "      <td>2019</td>\n",
       "      <td>2019</td>\n",
       "      <td>2</td>\n",
       "      <td>0</td>\n",
       "      <td>M</td>\n",
       "      <td>704</td>\n",
       "      <td>Viet Nam</td>\n",
       "      <td>VNM</td>\n",
       "      <td>36</td>\n",
       "      <td>Australia</td>\n",
       "      <td>AUS</td>\n",
       "      <td>2</td>\n",
       "      <td>Meat and edible meat offal</td>\n",
       "      <td>-1</td>\n",
       "      <td>NaN</td>\n",
       "      <td>0.0</td>\n",
       "      <td>-1</td>\n",
       "      <td>NaN</td>\n",
       "      <td>0.0</td>\n",
       "      <td>0.0</td>\n",
       "      <td>0.0</td>\n",
       "      <td>98907346</td>\n",
       "      <td>9.890735e+07</td>\n",
       "      <td>NaN</td>\n",
       "      <td>4</td>\n",
       "    </tr>\n",
       "    <tr>\n",
       "      <th>6</th>\n",
       "      <td>H4</td>\n",
       "      <td>2016</td>\n",
       "      <td>2016</td>\n",
       "      <td>2016</td>\n",
       "      <td>2</td>\n",
       "      <td>0</td>\n",
       "      <td>M</td>\n",
       "      <td>704</td>\n",
       "      <td>Viet Nam</td>\n",
       "      <td>VNM</td>\n",
       "      <td>842</td>\n",
       "      <td>USA</td>\n",
       "      <td>USA</td>\n",
       "      <td>2</td>\n",
       "      <td>Meat and edible meat offal</td>\n",
       "      <td>-1</td>\n",
       "      <td>NaN</td>\n",
       "      <td>0.0</td>\n",
       "      <td>-1</td>\n",
       "      <td>NaN</td>\n",
       "      <td>0.0</td>\n",
       "      <td>NaN</td>\n",
       "      <td>NaN</td>\n",
       "      <td>97801353</td>\n",
       "      <td>9.780135e+07</td>\n",
       "      <td>NaN</td>\n",
       "      <td>0</td>\n",
       "    </tr>\n",
       "    <tr>\n",
       "      <th>7</th>\n",
       "      <td>H4</td>\n",
       "      <td>2015</td>\n",
       "      <td>2015</td>\n",
       "      <td>2015</td>\n",
       "      <td>2</td>\n",
       "      <td>0</td>\n",
       "      <td>M</td>\n",
       "      <td>704</td>\n",
       "      <td>Viet Nam</td>\n",
       "      <td>VNM</td>\n",
       "      <td>842</td>\n",
       "      <td>USA</td>\n",
       "      <td>USA</td>\n",
       "      <td>2</td>\n",
       "      <td>Meat and edible meat offal</td>\n",
       "      <td>-1</td>\n",
       "      <td>NaN</td>\n",
       "      <td>NaN</td>\n",
       "      <td>-1</td>\n",
       "      <td>NaN</td>\n",
       "      <td>NaN</td>\n",
       "      <td>NaN</td>\n",
       "      <td>NaN</td>\n",
       "      <td>95843013</td>\n",
       "      <td>9.584301e+07</td>\n",
       "      <td>NaN</td>\n",
       "      <td>0</td>\n",
       "    </tr>\n",
       "    <tr>\n",
       "      <th>8</th>\n",
       "      <td>H5</td>\n",
       "      <td>2018</td>\n",
       "      <td>2018</td>\n",
       "      <td>2018</td>\n",
       "      <td>2</td>\n",
       "      <td>0</td>\n",
       "      <td>M</td>\n",
       "      <td>704</td>\n",
       "      <td>Viet Nam</td>\n",
       "      <td>VNM</td>\n",
       "      <td>699</td>\n",
       "      <td>India</td>\n",
       "      <td>IND</td>\n",
       "      <td>2</td>\n",
       "      <td>Meat and edible meat offal</td>\n",
       "      <td>-1</td>\n",
       "      <td>NaN</td>\n",
       "      <td>0.0</td>\n",
       "      <td>-1</td>\n",
       "      <td>NaN</td>\n",
       "      <td>0.0</td>\n",
       "      <td>0.0</td>\n",
       "      <td>0.0</td>\n",
       "      <td>86784142</td>\n",
       "      <td>8.678414e+07</td>\n",
       "      <td>NaN</td>\n",
       "      <td>4</td>\n",
       "    </tr>\n",
       "    <tr>\n",
       "      <th>9</th>\n",
       "      <td>H3</td>\n",
       "      <td>2011</td>\n",
       "      <td>2011</td>\n",
       "      <td>2011</td>\n",
       "      <td>2</td>\n",
       "      <td>0</td>\n",
       "      <td>M</td>\n",
       "      <td>704</td>\n",
       "      <td>Viet Nam</td>\n",
       "      <td>VNM</td>\n",
       "      <td>842</td>\n",
       "      <td>USA</td>\n",
       "      <td>USA</td>\n",
       "      <td>2</td>\n",
       "      <td>Meat and edible meat offal</td>\n",
       "      <td>-1</td>\n",
       "      <td>NaN</td>\n",
       "      <td>NaN</td>\n",
       "      <td>-1</td>\n",
       "      <td>NaN</td>\n",
       "      <td>NaN</td>\n",
       "      <td>NaN</td>\n",
       "      <td>NaN</td>\n",
       "      <td>86117512</td>\n",
       "      <td>8.611751e+07</td>\n",
       "      <td>NaN</td>\n",
       "      <td>0</td>\n",
       "    </tr>\n",
       "  </tbody>\n",
       "</table>\n",
       "</div>"
      ],
      "text/plain": [
       "  Classification  Year  Period  Period Desc.  Aggregate Level  \\\n",
       "0             H5  2019    2019          2019                2   \n",
       "1             H5  2019    2019          2019                2   \n",
       "2             H5  2018    2018          2018                2   \n",
       "3             H4  2017    2017          2017                2   \n",
       "4             H4  2016    2016          2016                2   \n",
       "5             H5  2019    2019          2019                2   \n",
       "6             H4  2016    2016          2016                2   \n",
       "7             H4  2015    2015          2015                2   \n",
       "8             H5  2018    2018          2018                2   \n",
       "9             H3  2011    2011          2011                2   \n",
       "\n",
       "   Trade Flow Code Trade Flow  Reporter Code  Reporter Reporter ISO  \\\n",
       "0                0          M            704  Viet Nam          VNM   \n",
       "1                0          M            704  Viet Nam          VNM   \n",
       "2                0          M            704  Viet Nam          VNM   \n",
       "3                0          M            704  Viet Nam          VNM   \n",
       "4                0          M            704  Viet Nam          VNM   \n",
       "5                0          M            704  Viet Nam          VNM   \n",
       "6                0          M            704  Viet Nam          VNM   \n",
       "7                0          M            704  Viet Nam          VNM   \n",
       "8                0          M            704  Viet Nam          VNM   \n",
       "9                0          M            704  Viet Nam          VNM   \n",
       "\n",
       "   Partner Code    Partner Partner ISO  Commodity Code  \\\n",
       "0           842        USA         USA               2   \n",
       "1           699      India         IND               2   \n",
       "2           842        USA         USA               2   \n",
       "3           842        USA         USA               2   \n",
       "4           699      India         IND               2   \n",
       "5            36  Australia         AUS               2   \n",
       "6           842        USA         USA               2   \n",
       "7           842        USA         USA               2   \n",
       "8           699      India         IND               2   \n",
       "9           842        USA         USA               2   \n",
       "\n",
       "                    Commodity  Qty Unit Code  Qty Unit  Qty  \\\n",
       "0  Meat and edible meat offal             -1       NaN  0.0   \n",
       "1  Meat and edible meat offal             -1       NaN  0.0   \n",
       "2  Meat and edible meat offal             -1       NaN  0.0   \n",
       "3  Meat and edible meat offal             -1       NaN  0.0   \n",
       "4  Meat and edible meat offal             -1       NaN  0.0   \n",
       "5  Meat and edible meat offal             -1       NaN  0.0   \n",
       "6  Meat and edible meat offal             -1       NaN  0.0   \n",
       "7  Meat and edible meat offal             -1       NaN  NaN   \n",
       "8  Meat and edible meat offal             -1       NaN  0.0   \n",
       "9  Meat and edible meat offal             -1       NaN  NaN   \n",
       "\n",
       "   Alt Qty Unit Code  Alt Qty Unit  Alt Qty  Netweight (kg)  \\\n",
       "0                 -1           NaN      0.0             0.0   \n",
       "1                 -1           NaN      0.0             0.0   \n",
       "2                 -1           NaN      0.0             0.0   \n",
       "3                 -1           NaN      0.0             NaN   \n",
       "4                 -1           NaN      0.0             NaN   \n",
       "5                 -1           NaN      0.0             0.0   \n",
       "6                 -1           NaN      0.0             NaN   \n",
       "7                 -1           NaN      NaN             NaN   \n",
       "8                 -1           NaN      0.0             0.0   \n",
       "9                 -1           NaN      NaN             NaN   \n",
       "\n",
       "   Gross weight (kg)  Trade Value (US$)  CIF Trade Value (US$)  \\\n",
       "0                0.0          201058755           2.010588e+08   \n",
       "1                0.0          178868209           1.788682e+08   \n",
       "2                0.0          168236990           1.682370e+08   \n",
       "3                NaN          123859577           1.238596e+08   \n",
       "4                NaN          103212633           1.032126e+08   \n",
       "5                0.0           98907346           9.890735e+07   \n",
       "6                NaN           97801353           9.780135e+07   \n",
       "7                NaN           95843013           9.584301e+07   \n",
       "8                0.0           86784142           8.678414e+07   \n",
       "9                NaN           86117512           8.611751e+07   \n",
       "\n",
       "   FOB Trade Value (US$)  Flag  \n",
       "0                    NaN     4  \n",
       "1                    NaN     4  \n",
       "2                    NaN     4  \n",
       "3                    NaN     0  \n",
       "4                    NaN     0  \n",
       "5                    NaN     4  \n",
       "6                    NaN     0  \n",
       "7                    NaN     0  \n",
       "8                    NaN     4  \n",
       "9                    NaN     0  "
      ]
     },
     "execution_count": 2,
     "metadata": {},
     "output_type": "execute_result"
    }
   ],
   "source": [
    "pd.set_option('display.max_columns', None) #Giúp hiển thị tất cả các cột của dữ liệu\n",
    "data = pd.read_csv(\"comtrade_data.csv\")\n",
    "data.head(10)"
   ]
  },
  {
   "cell_type": "markdown",
   "metadata": {},
   "source": [
    "### Kích thước của dữ liệu"
   ]
  },
  {
   "cell_type": "code",
   "execution_count": 3,
   "metadata": {
    "ExecuteTime": {
     "end_time": "2020-08-27T20:45:53.368834Z",
     "start_time": "2020-08-27T20:45:53.361971Z"
    }
   },
   "outputs": [
    {
     "name": "stdout",
     "output_type": "stream",
     "text": [
      "(31520, 27)\n"
     ]
    }
   ],
   "source": [
    "print(data.shape)"
   ]
  },
  {
   "cell_type": "markdown",
   "metadata": {},
   "source": [
    "Có thể thấy dữ liệu gồm có 31520 dòng và 28 cột.\n",
    "\n",
    "Mỗi dòng dữ liệu mô tả về giá trị xuất khẩu hoặc nhập khẩu của Việt Nam với một đối tác về một nhóm mặt hàng trong một năm duy nhất.\n",
    "\n",
    "### Về mô tả thông tin của mỗi cột xin mời xem mô tả dưới đây:"
   ]
  },
  {
   "cell_type": "markdown",
   "metadata": {},
   "source": [
    "- **Classification**: các phân loại quốc tế áp dụng cho dữ liệu thương mại và thuế quan được đưa ra bởi tổ chức Hải quan thế giới (WCO), H3 áp dụng cho hàng hóa từ 2007 - 2012, H4 là từ 2012 - 2017, và H5 là từ 2017 đến nay.\n",
    "- **Year, Period, Period Desc**: Vì dữ liệu thông kê theo từng năm nên cả ba cột này đều mô tả năm mà dữu liệu được thống kê.\n",
    "- **Aggregate Level**: đề cập đến mức độ chi tiết trong thống kê dữ liệu.\n",
    "- **Trade Flow Code, Trade Flow**: phân biệt giữa mặt hàng xuất khẩu và nhập khẩu. \n",
    "- **Reporter Code, Reporter, Reporter ISO**: lần lượt là Mã số, Tên, Viết tắt của quốc gia được chọn là chủ thể thu thập thông tin. Ở đây là Việt Nam.\n",
    "- **Partner Code, Partner, Partner ISO**: lần lượt là Mã số, Tên Viết tắt của các quốc gia đối tác.\n",
    "- **Qty Unit Code, Qty Unit, Qty, Alt Qty Unit Code, Alt Qty Unit, Alt Qty, Netweight (kg), Gross weight (kg)**: Các cột này nói về các đơn vị số lượng và khối lượng hàng hóa, nhưng vì ở đây người ta chỉ thống kê về giá trị nên cá cột này không mang ý nghĩa.\n",
    "- **Trade Value, CIF Trade Value, FOB Trade Value**: được tính theo US$, là tổng giá trị trong năm đó."
   ]
  },
  {
   "cell_type": "markdown",
   "metadata": {},
   "source": [
    "## Tiền xử lý dữ liệu"
   ]
  },
  {
   "cell_type": "markdown",
   "metadata": {},
   "source": [
    "### Loại bỏ trước một số cột không mang lại nhiều giá trị thông tin"
   ]
  },
  {
   "cell_type": "markdown",
   "metadata": {},
   "source": [
    "Các giá trị trong một số cột mà ta xem xét sẽ bỏ."
   ]
  },
  {
   "cell_type": "code",
   "execution_count": 4,
   "metadata": {
    "ExecuteTime": {
     "end_time": "2020-08-27T20:45:53.389329Z",
     "start_time": "2020-08-27T20:45:53.369779Z"
    }
   },
   "outputs": [
    {
     "data": {
      "text/plain": [
       "Classification       [H5, H4, H3]\n",
       "Reporter               [Viet Nam]\n",
       "Reporter Code               [704]\n",
       "Reporter ISO                [VNM]\n",
       "Qty Unit Code                [-1]\n",
       "Qty Unit                    [nan]\n",
       "Qty                    [0.0, nan]\n",
       "Alt Qty Unit Code            [-1]\n",
       "Alt Qty Unit                [nan]\n",
       "Alt Qty                [0.0, nan]\n",
       "Netweight (kg)         [0.0, nan]\n",
       "Gross weight (kg)      [0.0, nan]\n",
       "dtype: object"
      ]
     },
     "execution_count": 4,
     "metadata": {},
     "output_type": "execute_result"
    }
   ],
   "source": [
    "data[\"Classification\"].unique()\n",
    "c = [\"Classification\", \"Reporter\", \"Reporter Code\", \"Reporter ISO\", \"Qty Unit Code\",\n",
    "     \"Qty Unit\", \"Qty\", \"Alt Qty Unit Code\", \"Alt Qty Unit\", \"Alt Qty\", \"Netweight (kg)\", \"Gross weight (kg)\"]\n",
    "unq = pd.Series([data[i].unique() for i in c], index=c)\n",
    "unq"
   ]
  },
  {
   "cell_type": "markdown",
   "metadata": {},
   "source": [
    "- Cột **\"Classification\"** này chỉ có 3 giá trị là 'H3', 'H4', 'H5'. Nó biểu thị cho hàng hóa giao dịch trong giai đoạn nào ứng với 3 giá trị này. Vì trong dữ liệu này ta đã có thông tin về năm giao dịch ở cột **\"Year\"**, thậm chí cột này còn chi tiết về năm hơn, do đó ta có thể bỏ đi cột **\"Classification\"**.\n",
    "- Ba cột **\"Reporter\", \"Reporter ISO\", \"Partner Code\"** đều chỉ chứa 1 giá trị trong mỗi cột (liên quan đến Việt Nam) vì trong dữ liệu này thì Việt Nam là quốc gia được thống kê, do đó ta có thể bỏ giữ lại 1 trong 3 cột này.\n",
    "- Các cột **Qty Unit Code, Qty Unit, Qty, Alt Qty Unit Code, Alt Qty Unit, Alt Qty, Netweight (kg), Gross weight (kg)** chỉ chứ các giá trị không có ý nghĩa nên ta cũng sẽ bỏ.\n",
    "- Ba cột là **\"Year\", \"Period\", \"Period Desc.\"** đều cùng mang một giá trị là năm thống kê nên ta chỉ cần giữ lại một cột là **\"Year\"** và bỏ đi hai cột **\"Period\", \"Period Desc.\"**.\n",
    "- Hai cột cùng biểu diễn các giá trị phân biệt Xuất khẩu với nhập khẩu là **\"Trade Flow Code\"**và **\"Trade Flow\"** chỉ cần giữ lại 1 cột.\n",
    "- Các cột **\"Partner Code\", \"Partner\", \"Partner ISO\"** đều biểu diễn cùng một quốc gia đối tác trên một dòng, nên ta có thể bỏ đi hai cột là **\"Partner Code\", \"Partner ISO\"** và giữ lại cột **\"Partner\"\"**\n",
    "- Một điều đáng lưu ý Mới các mặt hàng nhập khẩu thì **\"Trade value\"** sẽ bằng **\"CIF Trade Value\"**, ngược lại với hàng hóa xuất khẩu thì **\"Trade Value\"** sẽ bằng **\"FOB Trade Value\"**. Dó đó ta chỉ cẩn giữ lại cột **Trade Value**."
   ]
  },
  {
   "cell_type": "markdown",
   "metadata": {},
   "source": [
    "Các cột ta sẽ bỏ đi đó là \"Classification\", \"Reporter\", \"Reporter Code\", \"Reporter ISO\", \"Qty Unit Code\", \"Qty Unit\", \"Qty\", \"Alt Qty Unit Code\", \"Alt Qty Unit\", \"Alt Qty\", \"Netweight (kg)\", \"Gross weight (kg)\",\"Period\", \"Period Desc.\", \"Partner Code\", \"Partner ISO\", \"CIF Trade Value\", \"FOB Trade Value\"."
   ]
  },
  {
   "cell_type": "code",
   "execution_count": 5,
   "metadata": {
    "ExecuteTime": {
     "end_time": "2020-08-27T20:45:53.404914Z",
     "start_time": "2020-08-27T20:45:53.390274Z"
    }
   },
   "outputs": [
    {
     "data": {
      "text/html": [
       "<div>\n",
       "<style scoped>\n",
       "    .dataframe tbody tr th:only-of-type {\n",
       "        vertical-align: middle;\n",
       "    }\n",
       "\n",
       "    .dataframe tbody tr th {\n",
       "        vertical-align: top;\n",
       "    }\n",
       "\n",
       "    .dataframe thead th {\n",
       "        text-align: right;\n",
       "    }\n",
       "</style>\n",
       "<table border=\"1\" class=\"dataframe\">\n",
       "  <thead>\n",
       "    <tr style=\"text-align: right;\">\n",
       "      <th></th>\n",
       "      <th>Year</th>\n",
       "      <th>Aggregate Level</th>\n",
       "      <th>Trade Flow</th>\n",
       "      <th>Reporter</th>\n",
       "      <th>Partner</th>\n",
       "      <th>Commodity Code</th>\n",
       "      <th>Commodity</th>\n",
       "      <th>Trade Value (US$)</th>\n",
       "      <th>Flag</th>\n",
       "    </tr>\n",
       "  </thead>\n",
       "  <tbody>\n",
       "    <tr>\n",
       "      <th>0</th>\n",
       "      <td>2019</td>\n",
       "      <td>2</td>\n",
       "      <td>M</td>\n",
       "      <td>Viet Nam</td>\n",
       "      <td>USA</td>\n",
       "      <td>2</td>\n",
       "      <td>Meat and edible meat offal</td>\n",
       "      <td>201058755</td>\n",
       "      <td>4</td>\n",
       "    </tr>\n",
       "    <tr>\n",
       "      <th>1</th>\n",
       "      <td>2019</td>\n",
       "      <td>2</td>\n",
       "      <td>M</td>\n",
       "      <td>Viet Nam</td>\n",
       "      <td>India</td>\n",
       "      <td>2</td>\n",
       "      <td>Meat and edible meat offal</td>\n",
       "      <td>178868209</td>\n",
       "      <td>4</td>\n",
       "    </tr>\n",
       "    <tr>\n",
       "      <th>2</th>\n",
       "      <td>2018</td>\n",
       "      <td>2</td>\n",
       "      <td>M</td>\n",
       "      <td>Viet Nam</td>\n",
       "      <td>USA</td>\n",
       "      <td>2</td>\n",
       "      <td>Meat and edible meat offal</td>\n",
       "      <td>168236990</td>\n",
       "      <td>4</td>\n",
       "    </tr>\n",
       "    <tr>\n",
       "      <th>3</th>\n",
       "      <td>2017</td>\n",
       "      <td>2</td>\n",
       "      <td>M</td>\n",
       "      <td>Viet Nam</td>\n",
       "      <td>USA</td>\n",
       "      <td>2</td>\n",
       "      <td>Meat and edible meat offal</td>\n",
       "      <td>123859577</td>\n",
       "      <td>0</td>\n",
       "    </tr>\n",
       "    <tr>\n",
       "      <th>4</th>\n",
       "      <td>2016</td>\n",
       "      <td>2</td>\n",
       "      <td>M</td>\n",
       "      <td>Viet Nam</td>\n",
       "      <td>India</td>\n",
       "      <td>2</td>\n",
       "      <td>Meat and edible meat offal</td>\n",
       "      <td>103212633</td>\n",
       "      <td>0</td>\n",
       "    </tr>\n",
       "    <tr>\n",
       "      <th>5</th>\n",
       "      <td>2019</td>\n",
       "      <td>2</td>\n",
       "      <td>M</td>\n",
       "      <td>Viet Nam</td>\n",
       "      <td>Australia</td>\n",
       "      <td>2</td>\n",
       "      <td>Meat and edible meat offal</td>\n",
       "      <td>98907346</td>\n",
       "      <td>4</td>\n",
       "    </tr>\n",
       "    <tr>\n",
       "      <th>6</th>\n",
       "      <td>2016</td>\n",
       "      <td>2</td>\n",
       "      <td>M</td>\n",
       "      <td>Viet Nam</td>\n",
       "      <td>USA</td>\n",
       "      <td>2</td>\n",
       "      <td>Meat and edible meat offal</td>\n",
       "      <td>97801353</td>\n",
       "      <td>0</td>\n",
       "    </tr>\n",
       "    <tr>\n",
       "      <th>7</th>\n",
       "      <td>2015</td>\n",
       "      <td>2</td>\n",
       "      <td>M</td>\n",
       "      <td>Viet Nam</td>\n",
       "      <td>USA</td>\n",
       "      <td>2</td>\n",
       "      <td>Meat and edible meat offal</td>\n",
       "      <td>95843013</td>\n",
       "      <td>0</td>\n",
       "    </tr>\n",
       "    <tr>\n",
       "      <th>8</th>\n",
       "      <td>2018</td>\n",
       "      <td>2</td>\n",
       "      <td>M</td>\n",
       "      <td>Viet Nam</td>\n",
       "      <td>India</td>\n",
       "      <td>2</td>\n",
       "      <td>Meat and edible meat offal</td>\n",
       "      <td>86784142</td>\n",
       "      <td>4</td>\n",
       "    </tr>\n",
       "    <tr>\n",
       "      <th>9</th>\n",
       "      <td>2011</td>\n",
       "      <td>2</td>\n",
       "      <td>M</td>\n",
       "      <td>Viet Nam</td>\n",
       "      <td>USA</td>\n",
       "      <td>2</td>\n",
       "      <td>Meat and edible meat offal</td>\n",
       "      <td>86117512</td>\n",
       "      <td>0</td>\n",
       "    </tr>\n",
       "  </tbody>\n",
       "</table>\n",
       "</div>"
      ],
      "text/plain": [
       "   Year  Aggregate Level Trade Flow  Reporter    Partner  Commodity Code  \\\n",
       "0  2019                2          M  Viet Nam        USA               2   \n",
       "1  2019                2          M  Viet Nam      India               2   \n",
       "2  2018                2          M  Viet Nam        USA               2   \n",
       "3  2017                2          M  Viet Nam        USA               2   \n",
       "4  2016                2          M  Viet Nam      India               2   \n",
       "5  2019                2          M  Viet Nam  Australia               2   \n",
       "6  2016                2          M  Viet Nam        USA               2   \n",
       "7  2015                2          M  Viet Nam        USA               2   \n",
       "8  2018                2          M  Viet Nam      India               2   \n",
       "9  2011                2          M  Viet Nam        USA               2   \n",
       "\n",
       "                    Commodity  Trade Value (US$)  Flag  \n",
       "0  Meat and edible meat offal          201058755     4  \n",
       "1  Meat and edible meat offal          178868209     4  \n",
       "2  Meat and edible meat offal          168236990     4  \n",
       "3  Meat and edible meat offal          123859577     0  \n",
       "4  Meat and edible meat offal          103212633     0  \n",
       "5  Meat and edible meat offal           98907346     4  \n",
       "6  Meat and edible meat offal           97801353     0  \n",
       "7  Meat and edible meat offal           95843013     0  \n",
       "8  Meat and edible meat offal           86784142     4  \n",
       "9  Meat and edible meat offal           86117512     0  "
      ]
     },
     "execution_count": 5,
     "metadata": {},
     "output_type": "execute_result"
    }
   ],
   "source": [
    "drop_cols = [\"Classification\", \"Trade Flow Code\", \"Reporter Code\", \"Reporter ISO\", \"Qty Unit Code\",\n",
    "             \"Qty Unit\", \"Qty\", \"Alt Qty Unit Code\", \"Alt Qty Unit\", \"Alt Qty\", \"Netweight (kg)\", \"Gross weight (kg)\", \n",
    "             \"Period\", \"Period Desc.\", \"Partner Code\", \"Partner ISO\", \"CIF Trade Value (US$)\", \"FOB Trade Value (US$)\"]\n",
    "data.drop(labels=drop_cols, axis=1, inplace=True)\n",
    "data.head(10)"
   ]
  },
  {
   "cell_type": "code",
   "execution_count": 6,
   "metadata": {
    "ExecuteTime": {
     "end_time": "2020-08-27T20:45:53.421505Z",
     "start_time": "2020-08-27T20:45:53.405891Z"
    },
    "scrolled": true
   },
   "outputs": [
    {
     "name": "stdout",
     "output_type": "stream",
     "text": [
      "<class 'pandas.core.frame.DataFrame'>\n",
      "RangeIndex: 31520 entries, 0 to 31519\n",
      "Data columns (total 9 columns):\n",
      " #   Column             Non-Null Count  Dtype \n",
      "---  ------             --------------  ----- \n",
      " 0   Year               31520 non-null  int64 \n",
      " 1   Aggregate Level    31520 non-null  int64 \n",
      " 2   Trade Flow         31520 non-null  object\n",
      " 3   Reporter           31520 non-null  object\n",
      " 4   Partner            31520 non-null  object\n",
      " 5   Commodity Code     31520 non-null  int64 \n",
      " 6   Commodity          31520 non-null  object\n",
      " 7   Trade Value (US$)  31520 non-null  int64 \n",
      " 8   Flag               31520 non-null  int64 \n",
      "dtypes: int64(5), object(4)\n",
      "memory usage: 2.2+ MB\n"
     ]
    }
   ],
   "source": [
    "data.info()"
   ]
  },
  {
   "cell_type": "markdown",
   "metadata": {},
   "source": [
    "- Nhìn chung do quá trình thống kê của United Nations Statistics Division là rất kỹ lưỡng nên ngoài không có giá trị nào bị thiếu."
   ]
  },
  {
   "cell_type": "markdown",
   "metadata": {},
   "source": [
    "Giá trị cột **Trade Value (US$)** nằm trong khoảng nào?"
   ]
  },
  {
   "cell_type": "code",
   "execution_count": 7,
   "metadata": {
    "ExecuteTime": {
     "end_time": "2020-08-27T20:45:53.428338Z",
     "start_time": "2020-08-27T20:45:53.422482Z"
    }
   },
   "outputs": [
    {
     "name": "stdout",
     "output_type": "stream",
     "text": [
      "trade value max (US$):  25986120991\n",
      "trade value min (US$):  200\n"
     ]
    }
   ],
   "source": [
    "tradevalue_max = data[\"Trade Value (US$)\"].max()\n",
    "tradevalue_min = data[\"Trade Value (US$)\"].min()\n",
    "print(\"trade value max (US$): \",tradevalue_max)\n",
    "print(\"trade value min (US$): \",tradevalue_min)"
   ]
  },
  {
   "cell_type": "markdown",
   "metadata": {},
   "source": [
    "Con số trong cột **Trade Value (US\\$)** lớn nhất lên tới hàng chục tỷ tính theo đơn vị US\\$, để dễ quan sát ta sẽ thêm cột **Trade_value** bằng cách lấy các giá trị từ cột **Trade Value (US\\$)** chia cho $ 10^6 $, nghĩa là đơn trị trong cột mới là triệu USD."
   ]
  },
  {
   "cell_type": "code",
   "execution_count": 8,
   "metadata": {
    "ExecuteTime": {
     "end_time": "2020-08-27T20:45:53.451761Z",
     "start_time": "2020-08-27T20:45:53.431292Z"
    }
   },
   "outputs": [
    {
     "data": {
      "text/html": [
       "<div>\n",
       "<style scoped>\n",
       "    .dataframe tbody tr th:only-of-type {\n",
       "        vertical-align: middle;\n",
       "    }\n",
       "\n",
       "    .dataframe tbody tr th {\n",
       "        vertical-align: top;\n",
       "    }\n",
       "\n",
       "    .dataframe thead th {\n",
       "        text-align: right;\n",
       "    }\n",
       "</style>\n",
       "<table border=\"1\" class=\"dataframe\">\n",
       "  <thead>\n",
       "    <tr style=\"text-align: right;\">\n",
       "      <th></th>\n",
       "      <th>Year</th>\n",
       "      <th>Aggregate Level</th>\n",
       "      <th>Trade Flow</th>\n",
       "      <th>Reporter</th>\n",
       "      <th>Partner</th>\n",
       "      <th>Commodity Code</th>\n",
       "      <th>Commodity</th>\n",
       "      <th>Trade Value (US$)</th>\n",
       "      <th>Flag</th>\n",
       "      <th>Trade_value</th>\n",
       "    </tr>\n",
       "  </thead>\n",
       "  <tbody>\n",
       "    <tr>\n",
       "      <th>0</th>\n",
       "      <td>2019</td>\n",
       "      <td>2</td>\n",
       "      <td>M</td>\n",
       "      <td>Viet Nam</td>\n",
       "      <td>USA</td>\n",
       "      <td>2</td>\n",
       "      <td>Meat and edible meat offal</td>\n",
       "      <td>201058755</td>\n",
       "      <td>4</td>\n",
       "      <td>201.058755</td>\n",
       "    </tr>\n",
       "    <tr>\n",
       "      <th>1</th>\n",
       "      <td>2019</td>\n",
       "      <td>2</td>\n",
       "      <td>M</td>\n",
       "      <td>Viet Nam</td>\n",
       "      <td>India</td>\n",
       "      <td>2</td>\n",
       "      <td>Meat and edible meat offal</td>\n",
       "      <td>178868209</td>\n",
       "      <td>4</td>\n",
       "      <td>178.868209</td>\n",
       "    </tr>\n",
       "    <tr>\n",
       "      <th>2</th>\n",
       "      <td>2018</td>\n",
       "      <td>2</td>\n",
       "      <td>M</td>\n",
       "      <td>Viet Nam</td>\n",
       "      <td>USA</td>\n",
       "      <td>2</td>\n",
       "      <td>Meat and edible meat offal</td>\n",
       "      <td>168236990</td>\n",
       "      <td>4</td>\n",
       "      <td>168.236990</td>\n",
       "    </tr>\n",
       "    <tr>\n",
       "      <th>3</th>\n",
       "      <td>2017</td>\n",
       "      <td>2</td>\n",
       "      <td>M</td>\n",
       "      <td>Viet Nam</td>\n",
       "      <td>USA</td>\n",
       "      <td>2</td>\n",
       "      <td>Meat and edible meat offal</td>\n",
       "      <td>123859577</td>\n",
       "      <td>0</td>\n",
       "      <td>123.859577</td>\n",
       "    </tr>\n",
       "    <tr>\n",
       "      <th>4</th>\n",
       "      <td>2016</td>\n",
       "      <td>2</td>\n",
       "      <td>M</td>\n",
       "      <td>Viet Nam</td>\n",
       "      <td>India</td>\n",
       "      <td>2</td>\n",
       "      <td>Meat and edible meat offal</td>\n",
       "      <td>103212633</td>\n",
       "      <td>0</td>\n",
       "      <td>103.212633</td>\n",
       "    </tr>\n",
       "  </tbody>\n",
       "</table>\n",
       "</div>"
      ],
      "text/plain": [
       "   Year  Aggregate Level Trade Flow  Reporter Partner  Commodity Code  \\\n",
       "0  2019                2          M  Viet Nam     USA               2   \n",
       "1  2019                2          M  Viet Nam   India               2   \n",
       "2  2018                2          M  Viet Nam     USA               2   \n",
       "3  2017                2          M  Viet Nam     USA               2   \n",
       "4  2016                2          M  Viet Nam   India               2   \n",
       "\n",
       "                    Commodity  Trade Value (US$)  Flag  Trade_value  \n",
       "0  Meat and edible meat offal          201058755     4   201.058755  \n",
       "1  Meat and edible meat offal          178868209     4   178.868209  \n",
       "2  Meat and edible meat offal          168236990     4   168.236990  \n",
       "3  Meat and edible meat offal          123859577     0   123.859577  \n",
       "4  Meat and edible meat offal          103212633     0   103.212633  "
      ]
     },
     "execution_count": 8,
     "metadata": {},
     "output_type": "execute_result"
    }
   ],
   "source": [
    "data[\"Trade_value\"] = data[\"Trade Value (US$)\"]/10**6\n",
    "data.head()"
   ]
  },
  {
   "cell_type": "markdown",
   "metadata": {},
   "source": [
    "## Quay lại bước khám phá dữ liệu"
   ]
  },
  {
   "cell_type": "markdown",
   "metadata": {},
   "source": [
    "### Mỗi cột có kiểu dữ liệu gì?"
   ]
  },
  {
   "cell_type": "code",
   "execution_count": 9,
   "metadata": {
    "ExecuteTime": {
     "end_time": "2020-08-27T20:45:53.460546Z",
     "start_time": "2020-08-27T20:45:53.453715Z"
    }
   },
   "outputs": [
    {
     "data": {
      "text/plain": [
       "Year                   int64\n",
       "Aggregate Level        int64\n",
       "Trade Flow            object\n",
       "Reporter              object\n",
       "Partner               object\n",
       "Commodity Code         int64\n",
       "Commodity             object\n",
       "Trade Value (US$)      int64\n",
       "Flag                   int64\n",
       "Trade_value          float64\n",
       "dtype: object"
      ]
     },
     "execution_count": 9,
     "metadata": {},
     "output_type": "execute_result"
    }
   ],
   "source": [
    "col_dtypes = data.dtypes\n",
    "col_dtypes"
   ]
  },
  {
   "cell_type": "markdown",
   "metadata": {},
   "source": [
    "Ta thấy ngoài các cột có dữ liệu kiểu int thì có 4 cột có dữ liệu là kiểu object. Để xem các cột này có phải chỉ chứa kiểu dữ liệu chuỗi không ta thực hiện như dưới đây:"
   ]
  },
  {
   "cell_type": "code",
   "execution_count": 10,
   "metadata": {
    "ExecuteTime": {
     "end_time": "2020-08-27T20:45:54.301855Z",
     "start_time": "2020-08-27T20:45:53.463482Z"
    }
   },
   "outputs": [
    {
     "name": "stdout",
     "output_type": "stream",
     "text": [
      "Column  Trade Flow  has type:  {<class 'str'>}\n",
      "Column  Reporter  has type:  {<class 'str'>}\n",
      "Column  Partner  has type:  {<class 'str'>}\n",
      "Column  Commodity  has type:  {<class 'str'>}\n"
     ]
    }
   ],
   "source": [
    "object_cols = [\"Trade Flow\", \"Reporter\",\"Partner\", \"Commodity\"]\n",
    "for c in object_cols:\n",
    "    dtypes = set()\n",
    "    for i in range(len(data[c])):\n",
    "        dtypes.add(type(data.loc[i,c]))\n",
    "    print(\"Column \",c,\" has type: \", dtypes)"
   ]
  },
  {
   "cell_type": "markdown",
   "metadata": {},
   "source": [
    "Như vậy là các cột này đều chỉ có kiểu string."
   ]
  },
  {
   "cell_type": "markdown",
   "metadata": {},
   "source": [
    "### Các cột dữ liệu dạng categorical có những giá trị nào?"
   ]
  },
  {
   "cell_type": "code",
   "execution_count": 11,
   "metadata": {
    "ExecuteTime": {
     "end_time": "2020-08-27T20:45:54.319456Z",
     "start_time": "2020-08-27T20:45:54.302831Z"
    }
   },
   "outputs": [
    {
     "data": {
      "text/plain": [
       "Trade Flow          2\n",
       "Reporter            1\n",
       "Partner           176\n",
       "Commodity          34\n",
       "Commodity Code     34\n",
       "dtype: int64"
      ]
     },
     "execution_count": 11,
     "metadata": {},
     "output_type": "execute_result"
    }
   ],
   "source": [
    "NumUniqueVals = pd.Series([len(data[i].unique()) for i in [\"Trade Flow\", \"Reporter\",\"Partner\", \"Commodity\", \"Commodity Code\"]],\n",
    "                          index= [\"Trade Flow\", \"Reporter\",\"Partner\", \"Commodity\", \"Commodity Code\"])\n",
    "NumUniqueVals\n",
    "# data[[\"Partner\"]].value_counts()"
   ]
  },
  {
   "cell_type": "code",
   "execution_count": 12,
   "metadata": {
    "ExecuteTime": {
     "end_time": "2020-08-27T20:45:54.348703Z",
     "start_time": "2020-08-27T20:45:54.320399Z"
    }
   },
   "outputs": [
    {
     "name": "stdout",
     "output_type": "stream",
     "text": [
      "['M' 'X']\n"
     ]
    }
   ],
   "source": [
    "print(data[\"Trade Flow\"].unique())"
   ]
  },
  {
   "cell_type": "markdown",
   "metadata": {},
   "source": [
    "Dữ liệu ở cột **Trade Flow** chỉ có hai giá trị là 'X' và 'M' tương ứng với xuất khẩu (Export) và nhập khẩu (Import). Hai giá trị này có thể sẽ được dùng để tách dữ liệu làm 2 DataFrame cho hàng hóa xuất - nhập khẩu riêng biệt.\n"
   ]
  },
  {
   "cell_type": "markdown",
   "metadata": {},
   "source": [
    "### Các nhóm hàng xuất khẩu gồm những gì?\n"
   ]
  },
  {
   "cell_type": "code",
   "execution_count": 13,
   "metadata": {
    "ExecuteTime": {
     "end_time": "2020-08-27T20:45:54.362367Z",
     "start_time": "2020-08-27T20:45:54.349679Z"
    },
    "scrolled": true
   },
   "outputs": [
    {
     "data": {
      "text/plain": [
       "array(['Fish and crustaceans, molluscs and other aquatic invertebrates',\n",
       "       'Fruit and nuts, edible; peel of citrus fruit or melons',\n",
       "       'Coffee, tea, mate and spices', 'Cereals',\n",
       "       'Mineral fuels, mineral oils and products of their distillation; bituminous substances; mineral waxes',\n",
       "       'Plastics and articles thereof', 'Rubber and articles thereof',\n",
       "       'Articles of leather; saddlery and harness; travel goods, handbags and similar containers; articles of animal gut (other than silk-worm gut)',\n",
       "       'Wood and articles of wood; wood charcoal',\n",
       "       'Paper and paperboard; articles of paper pulp, of paper or paperboard',\n",
       "       'Cotton', 'Apparel and clothing accessories; knitted or crocheted',\n",
       "       'Apparel and clothing accessories; not knitted or crocheted',\n",
       "       'Footwear; gaiters and the like; parts of such articles',\n",
       "       'Glass and glassware', 'Iron and steel',\n",
       "       'Copper and articles thereof', 'Aluminium and articles thereof',\n",
       "       'Electrical machinery and equipment and parts thereof; sound recorders and reproducers; television image and sound recorders and reproducers, parts and accessories of such articles',\n",
       "       'Furniture; bedding, mattresses, mattress supports, cushions and similar stuffed furnishings; lamps and lighting fittings, n.e.c.; illuminated signs, illuminated name-plates and the like; prefabricated buildings'],\n",
       "      dtype=object)"
      ]
     },
     "execution_count": 13,
     "metadata": {},
     "output_type": "execute_result"
    }
   ],
   "source": [
    "data[data['Trade Flow']=='X']['Commodity'].unique()"
   ]
  },
  {
   "cell_type": "markdown",
   "metadata": {},
   "source": [
    "### Các nhóm hàng Nhập khẩu gồm những gì?\n"
   ]
  },
  {
   "cell_type": "code",
   "execution_count": 14,
   "metadata": {
    "ExecuteTime": {
     "end_time": "2020-08-27T20:45:54.377008Z",
     "start_time": "2020-08-27T20:45:54.363344Z"
    }
   },
   "outputs": [
    {
     "data": {
      "text/plain": [
       "array(['Meat and edible meat offal',\n",
       "       'Food industries, residues and wastes thereof; prepared animal fodder',\n",
       "       'Ores, slag and ash',\n",
       "       'Mineral fuels, mineral oils and products of their distillation; bituminous substances; mineral waxes',\n",
       "       'Inorganic chemicals; organic and inorganic compounds of precious metals; of rare earth metals, of radio-active elements and of isotopes',\n",
       "       'Organic chemicals',\n",
       "       'Essential oils and resinoids; perfumery, cosmetic or toilet preparations',\n",
       "       'Plastics and articles thereof',\n",
       "       'Raw hides and skins (other than furskins) and leather',\n",
       "       'Man-made staple fibres',\n",
       "       'Wadding, felt and nonwovens, special yarns; twine, cordage, ropes and cables and articles thereof',\n",
       "       'Footwear; gaiters and the like; parts of such articles',\n",
       "       'Glass and glassware', 'Iron or steel articles',\n",
       "       'Metal; miscellaneous products of base metal',\n",
       "       'Electrical machinery and equipment and parts thereof; sound recorders and reproducers; television image and sound recorders and reproducers, parts and accessories of such articles',\n",
       "       'Vehicles; other than railway or tramway rolling stock, and parts and accessories thereof',\n",
       "       'Optical, photographic, cinematographic, measuring, checking, medical or surgical instruments and apparatus; parts and accessories',\n",
       "       'Arms and ammunition; parts and accessories thereof',\n",
       "       'Furniture; bedding, mattresses, mattress supports, cushions and similar stuffed furnishings; lamps and lighting fittings, n.e.c.; illuminated signs, illuminated name-plates and the like; prefabricated buildings'],\n",
       "      dtype=object)"
      ]
     },
     "execution_count": 14,
     "metadata": {},
     "output_type": "execute_result"
    }
   ],
   "source": [
    "data[data['Trade Flow']=='M']['Commodity'].unique()"
   ]
  },
  {
   "cell_type": "markdown",
   "metadata": {},
   "source": [
    "## Đưa ra các câu hỏi cần trả lời từ dữ liệu:"
   ]
  },
  {
   "cell_type": "markdown",
   "metadata": {},
   "source": [
    "- Câu 1: Có 20 nhóm hàng xuất khẩu và 20 nhóm hàng nhập khẩu nhưng tại sao chỉ có 34 gián trị khác nhau ở cột **Commodity?** Như vậy phải có 6 loại hàng hóa nằm ở cả hai danh mục xuất nhập khẩu. Đó là những loại hàng nào, có mã là gì? 6 loại hàng hóa này có mang ý nghĩa gì khi nằm ở cả hai hạng mục.\n",
    "- Câu 2: Trong năm 2019 đâu là 3 quốc gia là đối tác lớn nhất của Việt Nam ở cả thị trường xuất khẩu và nhập khẩu theo từng năm? Khảo sát quá trình tăng trưởng kim ngạch xuất khẩu của Việt Nam lên trên 3 quốc gia này trong gia đoạn được thống kê.\n",
    "- Câu 3: Tính theo năm 2019 hãy chỉ ra 3 nhóm mặt hàng xuất khẩu chủ lực và 3 nhóm mặt hàng nhập khẩu chính và đâu là thị trường chính của các nhóm mặt hàng này.\n",
    "- Câu 4: Trong những năm này thì năm nào Việt Nam là quốc gia Xuất siêu hay Nhập siêu."
   ]
  },
  {
   "cell_type": "markdown",
   "metadata": {},
   "source": [
    "### Tách dữ liệu:\n",
    "Để tiện cho việc trả lời các câu hỏi được nêu thì đầu tiên ta tách dữ liệu thành hai DataFrame riêng biệt, một DataFrame lưu các thông tin về hàng hóa xuất khẩu, DataFrame kia lưu thông tin về hàng hóa nhập khẩu."
   ]
  },
  {
   "cell_type": "code",
   "execution_count": 15,
   "metadata": {
    "ExecuteTime": {
     "end_time": "2020-08-27T20:45:54.400468Z",
     "start_time": "2020-08-27T20:45:54.378961Z"
    }
   },
   "outputs": [
    {
     "data": {
      "text/html": [
       "<div>\n",
       "<style scoped>\n",
       "    .dataframe tbody tr th:only-of-type {\n",
       "        vertical-align: middle;\n",
       "    }\n",
       "\n",
       "    .dataframe tbody tr th {\n",
       "        vertical-align: top;\n",
       "    }\n",
       "\n",
       "    .dataframe thead th {\n",
       "        text-align: right;\n",
       "    }\n",
       "</style>\n",
       "<table border=\"1\" class=\"dataframe\">\n",
       "  <thead>\n",
       "    <tr style=\"text-align: right;\">\n",
       "      <th></th>\n",
       "      <th>Year</th>\n",
       "      <th>Aggregate Level</th>\n",
       "      <th>Reporter</th>\n",
       "      <th>Partner</th>\n",
       "      <th>Commodity Code</th>\n",
       "      <th>Commodity</th>\n",
       "      <th>Trade Value (US$)</th>\n",
       "      <th>Flag</th>\n",
       "      <th>Trade_value</th>\n",
       "    </tr>\n",
       "  </thead>\n",
       "  <tbody>\n",
       "    <tr>\n",
       "      <th>345</th>\n",
       "      <td>2019</td>\n",
       "      <td>2</td>\n",
       "      <td>Viet Nam</td>\n",
       "      <td>China</td>\n",
       "      <td>3</td>\n",
       "      <td>Fish and crustaceans, molluscs and other aquat...</td>\n",
       "      <td>1214590404</td>\n",
       "      <td>4</td>\n",
       "      <td>1214.590404</td>\n",
       "    </tr>\n",
       "    <tr>\n",
       "      <th>346</th>\n",
       "      <td>2014</td>\n",
       "      <td>2</td>\n",
       "      <td>Viet Nam</td>\n",
       "      <td>USA</td>\n",
       "      <td>3</td>\n",
       "      <td>Fish and crustaceans, molluscs and other aquat...</td>\n",
       "      <td>1063638814</td>\n",
       "      <td>0</td>\n",
       "      <td>1063.638814</td>\n",
       "    </tr>\n",
       "    <tr>\n",
       "      <th>347</th>\n",
       "      <td>2017</td>\n",
       "      <td>2</td>\n",
       "      <td>Viet Nam</td>\n",
       "      <td>China</td>\n",
       "      <td>3</td>\n",
       "      <td>Fish and crustaceans, molluscs and other aquat...</td>\n",
       "      <td>1061198627</td>\n",
       "      <td>0</td>\n",
       "      <td>1061.198627</td>\n",
       "    </tr>\n",
       "    <tr>\n",
       "      <th>348</th>\n",
       "      <td>2018</td>\n",
       "      <td>2</td>\n",
       "      <td>Viet Nam</td>\n",
       "      <td>USA</td>\n",
       "      <td>3</td>\n",
       "      <td>Fish and crustaceans, molluscs and other aquat...</td>\n",
       "      <td>1048403135</td>\n",
       "      <td>4</td>\n",
       "      <td>1048.403135</td>\n",
       "    </tr>\n",
       "    <tr>\n",
       "      <th>349</th>\n",
       "      <td>2018</td>\n",
       "      <td>2</td>\n",
       "      <td>Viet Nam</td>\n",
       "      <td>China</td>\n",
       "      <td>3</td>\n",
       "      <td>Fish and crustaceans, molluscs and other aquat...</td>\n",
       "      <td>998828981</td>\n",
       "      <td>4</td>\n",
       "      <td>998.828981</td>\n",
       "    </tr>\n",
       "  </tbody>\n",
       "</table>\n",
       "</div>"
      ],
      "text/plain": [
       "     Year  Aggregate Level  Reporter Partner  Commodity Code  \\\n",
       "345  2019                2  Viet Nam   China               3   \n",
       "346  2014                2  Viet Nam     USA               3   \n",
       "347  2017                2  Viet Nam   China               3   \n",
       "348  2018                2  Viet Nam     USA               3   \n",
       "349  2018                2  Viet Nam   China               3   \n",
       "\n",
       "                                             Commodity  Trade Value (US$)  \\\n",
       "345  Fish and crustaceans, molluscs and other aquat...         1214590404   \n",
       "346  Fish and crustaceans, molluscs and other aquat...         1063638814   \n",
       "347  Fish and crustaceans, molluscs and other aquat...         1061198627   \n",
       "348  Fish and crustaceans, molluscs and other aquat...         1048403135   \n",
       "349  Fish and crustaceans, molluscs and other aquat...          998828981   \n",
       "\n",
       "     Flag  Trade_value  \n",
       "345     4  1214.590404  \n",
       "346     0  1063.638814  \n",
       "347     0  1061.198627  \n",
       "348     4  1048.403135  \n",
       "349     4   998.828981  "
      ]
     },
     "execution_count": 15,
     "metadata": {},
     "output_type": "execute_result"
    }
   ],
   "source": [
    "export_df = data[data[\"Trade Flow\"] == 'X']\n",
    "export_df=export_df.drop(labels=\"Trade Flow\", axis=1)\n",
    "export_df.head()\n"
   ]
  },
  {
   "cell_type": "code",
   "execution_count": 16,
   "metadata": {
    "ExecuteTime": {
     "end_time": "2020-08-27T20:45:54.418024Z",
     "start_time": "2020-08-27T20:45:54.402385Z"
    }
   },
   "outputs": [
    {
     "data": {
      "text/html": [
       "<div>\n",
       "<style scoped>\n",
       "    .dataframe tbody tr th:only-of-type {\n",
       "        vertical-align: middle;\n",
       "    }\n",
       "\n",
       "    .dataframe tbody tr th {\n",
       "        vertical-align: top;\n",
       "    }\n",
       "\n",
       "    .dataframe thead th {\n",
       "        text-align: right;\n",
       "    }\n",
       "</style>\n",
       "<table border=\"1\" class=\"dataframe\">\n",
       "  <thead>\n",
       "    <tr style=\"text-align: right;\">\n",
       "      <th></th>\n",
       "      <th>Year</th>\n",
       "      <th>Aggregate Level</th>\n",
       "      <th>Reporter</th>\n",
       "      <th>Partner</th>\n",
       "      <th>Commodity Code</th>\n",
       "      <th>Commodity</th>\n",
       "      <th>Trade Value (US$)</th>\n",
       "      <th>Flag</th>\n",
       "      <th>Trade_value</th>\n",
       "    </tr>\n",
       "  </thead>\n",
       "  <tbody>\n",
       "    <tr>\n",
       "      <th>0</th>\n",
       "      <td>2019</td>\n",
       "      <td>2</td>\n",
       "      <td>Viet Nam</td>\n",
       "      <td>USA</td>\n",
       "      <td>2</td>\n",
       "      <td>Meat and edible meat offal</td>\n",
       "      <td>201058755</td>\n",
       "      <td>4</td>\n",
       "      <td>201.058755</td>\n",
       "    </tr>\n",
       "    <tr>\n",
       "      <th>1</th>\n",
       "      <td>2019</td>\n",
       "      <td>2</td>\n",
       "      <td>Viet Nam</td>\n",
       "      <td>India</td>\n",
       "      <td>2</td>\n",
       "      <td>Meat and edible meat offal</td>\n",
       "      <td>178868209</td>\n",
       "      <td>4</td>\n",
       "      <td>178.868209</td>\n",
       "    </tr>\n",
       "    <tr>\n",
       "      <th>2</th>\n",
       "      <td>2018</td>\n",
       "      <td>2</td>\n",
       "      <td>Viet Nam</td>\n",
       "      <td>USA</td>\n",
       "      <td>2</td>\n",
       "      <td>Meat and edible meat offal</td>\n",
       "      <td>168236990</td>\n",
       "      <td>4</td>\n",
       "      <td>168.236990</td>\n",
       "    </tr>\n",
       "    <tr>\n",
       "      <th>3</th>\n",
       "      <td>2017</td>\n",
       "      <td>2</td>\n",
       "      <td>Viet Nam</td>\n",
       "      <td>USA</td>\n",
       "      <td>2</td>\n",
       "      <td>Meat and edible meat offal</td>\n",
       "      <td>123859577</td>\n",
       "      <td>0</td>\n",
       "      <td>123.859577</td>\n",
       "    </tr>\n",
       "    <tr>\n",
       "      <th>4</th>\n",
       "      <td>2016</td>\n",
       "      <td>2</td>\n",
       "      <td>Viet Nam</td>\n",
       "      <td>India</td>\n",
       "      <td>2</td>\n",
       "      <td>Meat and edible meat offal</td>\n",
       "      <td>103212633</td>\n",
       "      <td>0</td>\n",
       "      <td>103.212633</td>\n",
       "    </tr>\n",
       "  </tbody>\n",
       "</table>\n",
       "</div>"
      ],
      "text/plain": [
       "   Year  Aggregate Level  Reporter Partner  Commodity Code  \\\n",
       "0  2019                2  Viet Nam     USA               2   \n",
       "1  2019                2  Viet Nam   India               2   \n",
       "2  2018                2  Viet Nam     USA               2   \n",
       "3  2017                2  Viet Nam     USA               2   \n",
       "4  2016                2  Viet Nam   India               2   \n",
       "\n",
       "                    Commodity  Trade Value (US$)  Flag  Trade_value  \n",
       "0  Meat and edible meat offal          201058755     4   201.058755  \n",
       "1  Meat and edible meat offal          178868209     4   178.868209  \n",
       "2  Meat and edible meat offal          168236990     4   168.236990  \n",
       "3  Meat and edible meat offal          123859577     0   123.859577  \n",
       "4  Meat and edible meat offal          103212633     0   103.212633  "
      ]
     },
     "execution_count": 16,
     "metadata": {},
     "output_type": "execute_result"
    }
   ],
   "source": [
    "import_df = data[data[\"Trade Flow\"] == 'M']\n",
    "import_df=import_df.drop(labels=\"Trade Flow\", axis=1)\n",
    "import_df.head()"
   ]
  },
  {
   "cell_type": "markdown",
   "metadata": {},
   "source": [
    "### Câu 1: Những nhóm hàng nào vừa nằm ở danh mục sản phẩm xuất khẩu và nhập khẩu, chúng có mã là gì? 6 loại hàng hóa này có mang ý nghĩa gì khi nằm ở cả hai hạng mục."
   ]
  },
  {
   "cell_type": "code",
   "execution_count": 17,
   "metadata": {
    "ExecuteTime": {
     "end_time": "2020-08-27T20:45:54.434546Z",
     "start_time": "2020-08-27T20:45:54.419951Z"
    }
   },
   "outputs": [
    {
     "name": "stdout",
     "output_type": "stream",
     "text": [
      "-  Plastics and articles thereof\n",
      "-  Footwear; gaiters and the like; parts of such articles\n",
      "-  Electrical machinery and equipment and parts thereof; sound recorders and reproducers; television image and sound recorders and reproducers, parts and accessories of such articles\n",
      "-  Mineral fuels, mineral oils and products of their distillation; bituminous substances; mineral waxes\n",
      "-  Furniture; bedding, mattresses, mattress supports, cushions and similar stuffed furnishings; lamps and lighting fittings, n.e.c.; illuminated signs, illuminated name-plates and the like; prefabricated buildings\n",
      "-  Glass and glassware\n",
      "Mã các loại mặt hàng:  {64, 70, 39, 85, 27, 94}\n"
     ]
    }
   ],
   "source": [
    "ex_commodity_set = set(export_df[\"Commodity\"].unique())\n",
    "im_commodity_set = set(import_df[\"Commodity\"].unique())\n",
    "intersect_commodity = ex_commodity_set.intersection(im_commodity_set)\n",
    "for i in intersect_commodity:\n",
    "    print(\"- \", i)\n",
    "ex_commoditycode_set = set(export_df[\"Commodity Code\"].unique())\n",
    "im_commoditycode_set = set(import_df[\"Commodity Code\"].unique())\n",
    "intersect_commoditycode = ex_commoditycode_set.intersection(im_commoditycode_set)\n",
    "print(\"Mã các loại mặt hàng: \",intersect_commoditycode)"
   ]
  },
  {
   "cell_type": "markdown",
   "metadata": {},
   "source": [
    "- Như vậy 6 loại mặt hàng được vừa có mặt trong danh mục nhập khẩu và xuất khẩu là 6 nhóm mặt hàng được kể ra ở trên, ứng với các \"Commodity Code\" là: 64, 70, 39, 85, 27, 94.\n",
    "- Việc có một số nhóm sản phàm nằm ở cả hai danh mục trên theo em có thể được giải thích một cách dễ hiểu như sau:\n",
    "    + Thứ nhất, đây là nhóm mặt hàng gồm có nhiều dòng sản phẩm, chúng ta xuất khẩu một số dòng sản phẩm và nhập khẩu về các loại sản phẩm khác trong nhóm này. Ví dụ rõ nhất là hai nhóm hàng liên quan đến các sản phẩm nhựa (mã 39) và dày dép (mã 64) ở trên, ở Việt Nam có nhiều công ty lớn sẳn xuất hai mặt hàng này và chúng được xuất khuẩ sang các nước, đồng thời chúng ta vần nhập khẩu các sản phẩm nhựa hay giày dép từ các nước bên ngoài.\n",
    "    + Thứ hai, đây là các nhóm mặt hàng được tái xuất khẩu hoặc tái nhập khẩu. Điển hình là các mặt hàng thuộc nhóm Chất khoáng và dầu mỏ (mã 27). Chúng ta xuất khẩu dầu thô sáng các nước vừa nhập dầu thô và xăng thành phẩm về. Nguyên nhân là do:  Kết quả từ phòng thí nghiệm cho thấy sản phẩm dầu thô của Bạch Hổ có hàm lượng lưu huỳnh rất thấp, được thị trường nước ngoài ưa chuộng, có thể bán với giá cao. Đồng thời cũng kết quả thí nghiệm cho thấy chúng ta có thể pha 20% dầu thô nhập từ nước ngoài với giá thấp mà vẫn cho ra sản phẩm tốt. Vì thế mới có chuyện xuất dầu thô mà vẫn nhập dầu thô."
   ]
  },
  {
   "cell_type": "markdown",
   "metadata": {},
   "source": [
    "### Câu 2:  Trong năm 2019 đâu là 3 quốc gia là đối tác lớn nhất của Việt Nam ở cả thị trường xuất khẩu và nhập khẩu theo từng năm? Khảo sát quá trình tăng trưởng kim ngạch xuất khẩu của Việt Nam lên trên 3 quốc gia này trong gia đoạn được thống kê."
   ]
  },
  {
   "cell_type": "markdown",
   "metadata": {},
   "source": [
    "- Với câu hỏi này ta sẽ trả lời lần lượt trên thị trường xuất khảu rồi đến nhập khẩu.\n",
    "\n",
    "#### Đầu tiên hãy khảo sát trên dữ liệu xuất khẩu."
   ]
  },
  {
   "cell_type": "code",
   "execution_count": 18,
   "metadata": {
    "ExecuteTime": {
     "end_time": "2020-08-27T20:45:54.441362Z",
     "start_time": "2020-08-27T20:45:54.435518Z"
    }
   },
   "outputs": [],
   "source": [
    "# Hàm tìm số đối tác đứng đầu theo năm:\n",
    "def top_partner(data, year=0, top = 3):\n",
    "    if year > 0:\n",
    "        df = data[data[\"Year\"]==year]\n",
    "    else:\n",
    "        df=data\n",
    "#     sr=df.groupby(\"Partner\")[\"Trade_value\"].sum()\n",
    "#     sr=sr.sort_values(ascending = False)\n",
    "    df=df.groupby(['Partner']).agg({'Trade_value':'sum'})\n",
    "    df.columns = ['Trade_value_sum']\n",
    "    df=df.reset_index()\n",
    "    df=df.sort_values(by=\"Trade_value_sum\", ascending = False)\n",
    "    return df[:top]"
   ]
  },
  {
   "cell_type": "code",
   "execution_count": 19,
   "metadata": {
    "ExecuteTime": {
     "end_time": "2020-08-27T20:45:54.457005Z",
     "start_time": "2020-08-27T20:45:54.442344Z"
    }
   },
   "outputs": [
    {
     "data": {
      "text/html": [
       "<div>\n",
       "<style scoped>\n",
       "    .dataframe tbody tr th:only-of-type {\n",
       "        vertical-align: middle;\n",
       "    }\n",
       "\n",
       "    .dataframe tbody tr th {\n",
       "        vertical-align: top;\n",
       "    }\n",
       "\n",
       "    .dataframe thead th {\n",
       "        text-align: right;\n",
       "    }\n",
       "</style>\n",
       "<table border=\"1\" class=\"dataframe\">\n",
       "  <thead>\n",
       "    <tr style=\"text-align: right;\">\n",
       "      <th></th>\n",
       "      <th>Partner</th>\n",
       "      <th>Trade_value_sum</th>\n",
       "    </tr>\n",
       "  </thead>\n",
       "  <tbody>\n",
       "    <tr>\n",
       "      <th>87</th>\n",
       "      <td>USA</td>\n",
       "      <td>51869.741619</td>\n",
       "    </tr>\n",
       "    <tr>\n",
       "      <th>16</th>\n",
       "      <td>China</td>\n",
       "      <td>33756.335339</td>\n",
       "    </tr>\n",
       "    <tr>\n",
       "      <th>70</th>\n",
       "      <td>Rep. of Korea</td>\n",
       "      <td>15809.778886</td>\n",
       "    </tr>\n",
       "  </tbody>\n",
       "</table>\n",
       "</div>"
      ],
      "text/plain": [
       "          Partner  Trade_value_sum\n",
       "87            USA     51869.741619\n",
       "16          China     33756.335339\n",
       "70  Rep. of Korea     15809.778886"
      ]
     },
     "execution_count": 19,
     "metadata": {},
     "output_type": "execute_result"
    }
   ],
   "source": [
    "top_partner(export_df, year=2019, top=3)"
   ]
  },
  {
   "cell_type": "markdown",
   "metadata": {},
   "source": [
    "- Như vậy trong năm 2019 thì lần lượt Mỹ, Trung Quốc và Nhật Bản là 3 quốc gia đứng đầu về kim ngạch xuất khẩu của Việt Nam.\n",
    "- Mở rộng khảo sát quá trình tăng trưởng kim ngạch xuất khẩu của Việt Nam lên trên 3 quốc gia này trong gia đoạn 2010-2019."
   ]
  },
  {
   "cell_type": "code",
   "execution_count": 20,
   "metadata": {
    "ExecuteTime": {
     "end_time": "2020-08-27T20:45:54.665834Z",
     "start_time": "2020-08-27T20:45:54.458924Z"
    }
   },
   "outputs": [
    {
     "data": {
      "text/plain": [
       "<matplotlib.axes._subplots.AxesSubplot at 0x26c4d473788>"
      ]
     },
     "execution_count": 20,
     "metadata": {},
     "output_type": "execute_result"
    },
    {
     "data": {
      "image/png": "[encoded data removed]",
      "text/plain": [
       "<Figure size 720x360 with 1 Axes>"
      ]
     },
     "metadata": {
      "needs_background": "light"
     },
     "output_type": "display_data"
    }
   ],
   "source": [
    "year = sorted(export_df[\"Year\"].unique())\n",
    "partner = ['USA', 'China', 'Japan']\n",
    "df = export_df[['Year','Partner','Trade_value']].loc[export_df['Partner'].isin(partner)]\n",
    "group_df=df.groupby(by=['Year','Partner']).agg({'Trade_value':'sum'})\n",
    "group_df.columns = ['Trade_value_sum']\n",
    "group_df=group_df.reset_index()\n",
    "group_df = group_df.pivot(index='Year', columns='Partner', values='Trade_value_sum')\n",
    "group_df.plot(marker='o',figsize=(10,5),title = \"KIM NGẠCH XUẤT KHẨU VIỆT NAM GIAI ĐOẠN 2010-2019\",\n",
    "              ylabel = \"Giá trị (Đv: Triệu USD)\", xlabel = \"Năm\",xlim =(2010,2019))"
   ]
  },
  {
   "cell_type": "markdown",
   "metadata": {},
   "source": [
    "Qua sơ đồ trên thì ta có thể thấy kim ngạch xuất khẩu với ba quốc gia My, Trung quốc và Nhật Bản đều tăng trong giai đoạn 2010-2019. Trong đó Mỹ và Trung Quốc tăng trưởng rất nhanh, đặc biệt là Mỹ, quốc gia luôn đứng đầu trong kim ngạch xuất khẩu của Việt Nam."
   ]
  },
  {
   "cell_type": "markdown",
   "metadata": {},
   "source": [
    "#### Tiếp theo hãy khảo sát trên dữ liệu nhập khẩu."
   ]
  },
  {
   "cell_type": "code",
   "execution_count": 21,
   "metadata": {
    "ExecuteTime": {
     "end_time": "2020-08-27T20:45:54.679531Z",
     "start_time": "2020-08-27T20:45:54.666809Z"
    }
   },
   "outputs": [
    {
     "data": {
      "text/html": [
       "<div>\n",
       "<style scoped>\n",
       "    .dataframe tbody tr th:only-of-type {\n",
       "        vertical-align: middle;\n",
       "    }\n",
       "\n",
       "    .dataframe tbody tr th {\n",
       "        vertical-align: top;\n",
       "    }\n",
       "\n",
       "    .dataframe thead th {\n",
       "        text-align: right;\n",
       "    }\n",
       "</style>\n",
       "<table border=\"1\" class=\"dataframe\">\n",
       "  <thead>\n",
       "    <tr style=\"text-align: right;\">\n",
       "      <th></th>\n",
       "      <th>Partner</th>\n",
       "      <th>Trade_value_sum</th>\n",
       "    </tr>\n",
       "  </thead>\n",
       "  <tbody>\n",
       "    <tr>\n",
       "      <th>16</th>\n",
       "      <td>China</td>\n",
       "      <td>43354.880422</td>\n",
       "    </tr>\n",
       "    <tr>\n",
       "      <th>70</th>\n",
       "      <td>Rep. of Korea</td>\n",
       "      <td>36232.053128</td>\n",
       "    </tr>\n",
       "    <tr>\n",
       "      <th>43</th>\n",
       "      <td>Japan</td>\n",
       "      <td>10973.986192</td>\n",
       "    </tr>\n",
       "  </tbody>\n",
       "</table>\n",
       "</div>"
      ],
      "text/plain": [
       "          Partner  Trade_value_sum\n",
       "16          China     43354.880422\n",
       "70  Rep. of Korea     36232.053128\n",
       "43          Japan     10973.986192"
      ]
     },
     "execution_count": 21,
     "metadata": {},
     "output_type": "execute_result"
    }
   ],
   "source": [
    "top_partner(import_df, year=2019, top=3)"
   ]
  },
  {
   "cell_type": "markdown",
   "metadata": {},
   "source": [
    "- Như vậy trong năm 2019 thì lần lượt Trung Quốc, Hàn Quốc và Nhật Bản là 3 quốc gia đứng đầu về kim ngạch nhập khẩu của Việt Nam.\n",
    "- Mở rộng khảo sát quá trình tăng trưởng kim ngạch nhập khẩu của Việt Nam lên trên 3 quốc gia này trong gia đoạn 2010-2019."
   ]
  },
  {
   "cell_type": "code",
   "execution_count": 22,
   "metadata": {
    "ExecuteTime": {
     "end_time": "2020-08-27T20:45:54.892248Z",
     "start_time": "2020-08-27T20:45:54.680475Z"
    }
   },
   "outputs": [
    {
     "data": {
      "text/plain": [
       "<matplotlib.axes._subplots.AxesSubplot at 0x26c4ec95bc8>"
      ]
     },
     "execution_count": 22,
     "metadata": {},
     "output_type": "execute_result"
    },
    {
     "data": {
      "image/png": "[encoded data removed]",
      "text/plain": [
       "<Figure size 720x360 with 1 Axes>"
      ]
     },
     "metadata": {
      "needs_background": "light"
     },
     "output_type": "display_data"
    }
   ],
   "source": [
    "year = sorted(export_df[\"Year\"].unique())\n",
    "partner = ['Rep. of Korea', 'China', 'Japan']\n",
    "df = import_df[['Year','Partner','Trade_value']].loc[import_df['Partner'].isin(partner)]\n",
    "group_df=df.groupby(by=['Year','Partner']).agg({'Trade_value':'sum'})\n",
    "group_df.columns = ['Trade_value_sum']\n",
    "group_df=group_df.reset_index()\n",
    "group_df = group_df.pivot(index='Year', columns='Partner', values='Trade_value_sum')\n",
    "group_df.plot(marker='o',figsize=(10,5),title = \"KIM NGẠCH NHẬP KHẨU VIỆT NAM GIAI ĐOẠN 2010-2019\",\n",
    "              ylabel = \"Giá trị (Đv: Triệu USD)\", xlabel = \"Năm\",xlim =(2010,2019))"
   ]
  },
  {
   "cell_type": "markdown",
   "metadata": {},
   "source": [
    "Qua sơ đồ trên thì ta có thể thấy kim ngạch xuất khẩu với ba quốc gia Hàn Quốc, Trung quốc và Nhật Bản đều tăng trong giai đoạn 2010-2019. Trong đó Hàn Quốc và Trung Quốc tăng trưởng rất nhanh so vơi Nhập Bản. Đến năm 2019 thì Trung Quốc vượt qua Hàn Quốc trở thành quốc gia  đứng đầu trong kim ngạch nhập khẩu của Việt Nam."
   ]
  },
  {
   "cell_type": "markdown",
   "metadata": {},
   "source": [
    "### Câu 3: Tính theo năm 2019 hãy chỉ ra 3 nhóm mặt hàng xuất khẩu chủ lực và 3 nhóm mặt hàng nhập khẩu chính và đâu là thị trường chính của các nhóm mặt hàng này."
   ]
  },
  {
   "cell_type": "markdown",
   "metadata": {},
   "source": [
    "- Đầu tiên ta bắt tay vào xây dựng hàm tính toán các mặt hàng xuất khẩu nhập khẩu có giá trị cao nhất theo từng năm."
   ]
  },
  {
   "cell_type": "code",
   "execution_count": 23,
   "metadata": {
    "ExecuteTime": {
     "end_time": "2020-08-27T20:45:54.898137Z",
     "start_time": "2020-08-27T20:45:54.893194Z"
    }
   },
   "outputs": [],
   "source": [
    "def top_commodity(data, year=0, top = 3):\n",
    "    if year > 0:\n",
    "        df = data[data[\"Year\"]==year]\n",
    "    else:\n",
    "        df=data\n",
    "    df=df.groupby([\"Commodity\",\"Commodity Code\"]).agg({'Trade_value':'sum'})\n",
    "    df.columns = ['Trade_value_sum']\n",
    "    df=df.reset_index()\n",
    "    df=df.sort_values(by=\"Trade_value_sum\", ascending = False)\n",
    "    return df[:top]"
   ]
  },
  {
   "cell_type": "markdown",
   "metadata": {},
   "source": [
    "### Xét trên dữ liệu Xuất khẩu:"
   ]
  },
  {
   "cell_type": "code",
   "execution_count": 24,
   "metadata": {
    "ExecuteTime": {
     "end_time": "2020-08-27T20:45:54.913691Z",
     "start_time": "2020-08-27T20:45:54.899076Z"
    }
   },
   "outputs": [
    {
     "data": {
      "text/html": [
       "<div>\n",
       "<style scoped>\n",
       "    .dataframe tbody tr th:only-of-type {\n",
       "        vertical-align: middle;\n",
       "    }\n",
       "\n",
       "    .dataframe tbody tr th {\n",
       "        vertical-align: top;\n",
       "    }\n",
       "\n",
       "    .dataframe thead th {\n",
       "        text-align: right;\n",
       "    }\n",
       "</style>\n",
       "<table border=\"1\" class=\"dataframe\">\n",
       "  <thead>\n",
       "    <tr style=\"text-align: right;\">\n",
       "      <th></th>\n",
       "      <th>Commodity</th>\n",
       "      <th>Commodity Code</th>\n",
       "      <th>Trade_value_sum</th>\n",
       "    </tr>\n",
       "  </thead>\n",
       "  <tbody>\n",
       "    <tr>\n",
       "      <th>8</th>\n",
       "      <td>Electrical machinery and equipment and parts t...</td>\n",
       "      <td>85</td>\n",
       "      <td>97158.131803</td>\n",
       "    </tr>\n",
       "    <tr>\n",
       "      <th>10</th>\n",
       "      <td>Footwear; gaiters and the like; parts of such ...</td>\n",
       "      <td>64</td>\n",
       "      <td>18989.632774</td>\n",
       "    </tr>\n",
       "    <tr>\n",
       "      <th>2</th>\n",
       "      <td>Apparel and clothing accessories; not knitted ...</td>\n",
       "      <td>62</td>\n",
       "      <td>15153.097754</td>\n",
       "    </tr>\n",
       "  </tbody>\n",
       "</table>\n",
       "</div>"
      ],
      "text/plain": [
       "                                            Commodity  Commodity Code  \\\n",
       "8   Electrical machinery and equipment and parts t...              85   \n",
       "10  Footwear; gaiters and the like; parts of such ...              64   \n",
       "2   Apparel and clothing accessories; not knitted ...              62   \n",
       "\n",
       "    Trade_value_sum  \n",
       "8      97158.131803  \n",
       "10     18989.632774  \n",
       "2      15153.097754  "
      ]
     },
     "execution_count": 24,
     "metadata": {},
     "output_type": "execute_result"
    }
   ],
   "source": [
    "top_ex_com = top_commodity(export_df,year = 2019)\n",
    "top_ex_com"
   ]
  },
  {
   "cell_type": "code",
   "execution_count": 25,
   "metadata": {
    "ExecuteTime": {
     "end_time": "2020-08-27T20:45:54.920522Z",
     "start_time": "2020-08-27T20:45:54.914669Z"
    }
   },
   "outputs": [
    {
     "name": "stdout",
     "output_type": "stream",
     "text": [
      "['Electrical machinery and equipment and parts thereof; sound recorders and reproducers; television image and sound recorders and reproducers, parts and accessories of such articles'\n",
      " 'Footwear; gaiters and the like; parts of such articles'\n",
      " 'Apparel and clothing accessories; not knitted or crocheted']\n"
     ]
    }
   ],
   "source": [
    "print(top_ex_com['Commodity'].values)"
   ]
  },
  {
   "cell_type": "markdown",
   "metadata": {},
   "source": [
    "- Theo kết quả trên thì nhóm mặt hàng về đồ điện tử, giầy dép, và quần áo trang phục là 3 nhóm mặt hàng có kim ngạch xuất khẩu cao nhất trong năm 2019. 3 nhóm mặt hàng lần lượt có mã là 85, 64, 62."
   ]
  },
  {
   "cell_type": "markdown",
   "metadata": {},
   "source": [
    "### Bây giờ ta tìm xem 3 quốc gia nào có giá trị xuất khẩu cao nhất ứng với mỗi nhóm hàng trên trong năm 2019"
   ]
  },
  {
   "cell_type": "code",
   "execution_count": 26,
   "metadata": {
    "ExecuteTime": {
     "end_time": "2020-08-27T20:45:54.930790Z",
     "start_time": "2020-08-27T20:45:54.923958Z"
    }
   },
   "outputs": [],
   "source": [
    "top_ex_code = top_ex_com['Commodity Code'].values\n",
    "top_ex_code #mã của 3 nhóm  hàng hóa có kim nhạch xuất khẩu cao nhất.\n",
    "df = export_df[export_df['Year']==2019]\n",
    "df = df[['Partner','Commodity Code','Trade_value']].loc[df['Commodity Code'].isin(top_ex_code)]\n",
    "#df: Rút trích ra DF về các quốc gia được Việt Nam xuất khẩu các nhóm hàng trên trong năm 2019"
   ]
  },
  {
   "cell_type": "code",
   "execution_count": 27,
   "metadata": {
    "ExecuteTime": {
     "end_time": "2020-08-27T20:45:54.945465Z",
     "start_time": "2020-08-27T20:45:54.931795Z"
    }
   },
   "outputs": [
    {
     "data": {
      "text/plain": [
       "85    [China, USA, Rep. of Korea]\n",
       "64          [USA, China, Belgium]\n",
       "62    [USA, Rep. of Korea, Japan]\n",
       "dtype: object"
      ]
     },
     "execution_count": 27,
     "metadata": {},
     "output_type": "execute_result"
    }
   ],
   "source": [
    "arr=[]\n",
    "for code in top_ex_code:\n",
    "    # t là list 3 quốc gia có giá trị xuất khảu cao nhất ứng với từng mã hàng.\n",
    "    t =df[df['Commodity Code'] == code].sort_values(by='Trade_value', ascending=False)['Partner'][:3].values\n",
    "    arr.append(t)\n",
    "top_partner_per_commodity=pd.Series(arr,index=[top_ex_code])\n",
    "top_partner_per_commodity # Đây là Series có index là top 3 mặt hàng xuất khẩu và giá trị ứng với đó là top 3 đối tác"
   ]
  },
  {
   "cell_type": "markdown",
   "metadata": {},
   "source": [
    "- Như vậy có thể thấy, trong năm 2019:\n",
    "    + với nhóm mặt hàng đồ điện, điện tử (mã 85) thì Trung Quốc, Mỹ và Hàn Quốc là 3 quốc gia mà Việt Nam có giá trị xuất khẩu cao nhất.\n",
    "    + với nhóm mặt hàng về Giày dép (mã 64) thì Mỹ, Trung Quốc, Bỉ là 3 quốc gia mà Việt Nam có giá trị xuất khẩu cao nhất.\n",
    "    + vơi nhóm mặt hàng về Quần áo trang phục thì Mỹ, Hàn Quốc, Nhật Bản là 3 quốc gia mà Việt Nam có giá trị xuất khẩu cao nhất."
   ]
  },
  {
   "cell_type": "markdown",
   "metadata": {},
   "source": [
    "### Xét trên dữ liệu Nhập khẩu:"
   ]
  },
  {
   "cell_type": "code",
   "execution_count": 28,
   "metadata": {
    "ExecuteTime": {
     "end_time": "2020-08-27T20:45:54.961046Z",
     "start_time": "2020-08-27T20:45:54.946409Z"
    }
   },
   "outputs": [
    {
     "data": {
      "text/html": [
       "<div>\n",
       "<style scoped>\n",
       "    .dataframe tbody tr th:only-of-type {\n",
       "        vertical-align: middle;\n",
       "    }\n",
       "\n",
       "    .dataframe tbody tr th {\n",
       "        vertical-align: top;\n",
       "    }\n",
       "\n",
       "    .dataframe thead th {\n",
       "        text-align: right;\n",
       "    }\n",
       "</style>\n",
       "<table border=\"1\" class=\"dataframe\">\n",
       "  <thead>\n",
       "    <tr style=\"text-align: right;\">\n",
       "      <th></th>\n",
       "      <th>Commodity</th>\n",
       "      <th>Commodity Code</th>\n",
       "      <th>Trade_value_sum</th>\n",
       "    </tr>\n",
       "  </thead>\n",
       "  <tbody>\n",
       "    <tr>\n",
       "      <th>1</th>\n",
       "      <td>Electrical machinery and equipment and parts t...</td>\n",
       "      <td>85</td>\n",
       "      <td>77771.607355</td>\n",
       "    </tr>\n",
       "    <tr>\n",
       "      <th>16</th>\n",
       "      <td>Plastics and articles thereof</td>\n",
       "      <td>39</td>\n",
       "      <td>15872.856713</td>\n",
       "    </tr>\n",
       "    <tr>\n",
       "      <th>12</th>\n",
       "      <td>Mineral fuels, mineral oils and products of th...</td>\n",
       "      <td>27</td>\n",
       "      <td>15561.624948</td>\n",
       "    </tr>\n",
       "  </tbody>\n",
       "</table>\n",
       "</div>"
      ],
      "text/plain": [
       "                                            Commodity  Commodity Code  \\\n",
       "1   Electrical machinery and equipment and parts t...              85   \n",
       "16                      Plastics and articles thereof              39   \n",
       "12  Mineral fuels, mineral oils and products of th...              27   \n",
       "\n",
       "    Trade_value_sum  \n",
       "1      77771.607355  \n",
       "16     15872.856713  \n",
       "12     15561.624948  "
      ]
     },
     "execution_count": 28,
     "metadata": {},
     "output_type": "execute_result"
    }
   ],
   "source": [
    "top_im_com = top_commodity(import_df,year = 2019)\n",
    "top_im_com"
   ]
  },
  {
   "cell_type": "code",
   "execution_count": 29,
   "metadata": {
    "ExecuteTime": {
     "end_time": "2020-08-27T20:45:54.966903Z",
     "start_time": "2020-08-27T20:45:54.962999Z"
    }
   },
   "outputs": [
    {
     "name": "stdout",
     "output_type": "stream",
     "text": [
      "['Electrical machinery and equipment and parts thereof; sound recorders and reproducers; television image and sound recorders and reproducers, parts and accessories of such articles'\n",
      " 'Plastics and articles thereof'\n",
      " 'Mineral fuels, mineral oils and products of their distillation; bituminous substances; mineral waxes']\n"
     ]
    }
   ],
   "source": [
    "print(top_im_com['Commodity'].values)"
   ]
  },
  {
   "cell_type": "markdown",
   "metadata": {},
   "source": [
    "- Theo kết quả trên thì nhóm mặt hàng về đồ điện - điện tử, các sản phẩm về nhựa, và nhóm  nhiên liệu khoáng sản là 3 nhóm mặt hàng có kim ngạch Nhập khẩu cao nhất trong năm 2019. 3 nhóm mặt hàng lần lượt có mã là 85, 39, 27."
   ]
  },
  {
   "cell_type": "markdown",
   "metadata": {},
   "source": [
    "### Bây giờ ta tìm xem 3 quốc gia nào là nguồn Nhập khẩu cao nhất ứng với mỗi nhóm hàng trên trong năm 2019"
   ]
  },
  {
   "cell_type": "code",
   "execution_count": 30,
   "metadata": {
    "ExecuteTime": {
     "end_time": "2020-08-27T20:45:54.989350Z",
     "start_time": "2020-08-27T20:45:54.969831Z"
    }
   },
   "outputs": [
    {
     "data": {
      "text/plain": [
       "85              [China, Rep. of Korea, Japan]\n",
       "39    [China, Rep. of Korea, Other Asia, nes]\n",
       "27             [Kuwait, Rep. of Korea, China]\n",
       "dtype: object"
      ]
     },
     "execution_count": 30,
     "metadata": {},
     "output_type": "execute_result"
    }
   ],
   "source": [
    "top_im_code = top_im_com['Commodity Code'].values\n",
    "# print(top_im_code) #mã của 3 nhóm  hàng hóa có giá trị nhập khẩu cao nhất.\n",
    "df = import_df[import_df['Year']==2019]\n",
    "df = df[['Partner','Commodity Code','Trade_value']].loc[df['Commodity Code'].isin(top_im_code)]\n",
    "\n",
    "arr=[]\n",
    "for code in top_im_code:\n",
    "    # t là list 3 quốc gia có giá trị xuất khảu cao nhất ứng với từng mã hàng.\n",
    "    t =df[df['Commodity Code'] == code].sort_values(by='Trade_value', ascending=False)['Partner'][:3].values\n",
    "    arr.append(t)\n",
    "top_partner_per_commodity=pd.Series(arr,index=[top_im_code])\n",
    "top_partner_per_commodity # Đây là Series có index là top 3 mặt hàng nhập khẩu và giá trị ứng với đó là top 3 nguồn nhập"
   ]
  },
  {
   "cell_type": "markdown",
   "metadata": {},
   "source": [
    "#### Nhận xét:\n",
    "- Như vậy có thể thấy, trong năm 2019:\n",
    "    + với nhóm mặt hàng đồ điện, điện tử (mã 85) thì Trung Quốc, Hàn Quốc, Nhật Bản là 3 nguồn cung chính cho Việt Nam.\n",
    "    + với nhóm mặt hàng về Các sản phẩm nhựa (mã 39) thì Trung Quốc, Hàn Quốc, \"Other Asia, nes\" là 3 nguồn cung chính cho Việt Nam. (\"Other Asia, nes\" chỉ chung cho một số các quốc gia châu Á gộp lại, nes = not elsewhere specified)\n",
    "    + vơi nhóm mặt hàng về nhiên liệu khoáng sản thì Mỹ, Hàn Quốc, Nhật Bản là 3 nguồn cung chính cho Việt Nam."
   ]
  },
  {
   "cell_type": "markdown",
   "metadata": {},
   "source": [
    "### Câu 4:\n",
    "Trong những năm này thì năm nào Việt Nam là quốc gia Xuất siêu, năm nào Việt Nam là quốc gia Nhập siêu."
   ]
  },
  {
   "cell_type": "markdown",
   "metadata": {},
   "source": [
    "Để trả lời câu hỏi này đầu tiên ta tính tổng giá trị nhập khẩu và xuất khẩu theo từng năm."
   ]
  },
  {
   "cell_type": "code",
   "execution_count": 31,
   "metadata": {
    "ExecuteTime": {
     "end_time": "2020-08-27T20:45:55.007927Z",
     "start_time": "2020-08-27T20:45:54.991302Z"
    }
   },
   "outputs": [
    {
     "data": {
      "text/html": [
       "<div>\n",
       "<style scoped>\n",
       "    .dataframe tbody tr th:only-of-type {\n",
       "        vertical-align: middle;\n",
       "    }\n",
       "\n",
       "    .dataframe tbody tr th {\n",
       "        vertical-align: top;\n",
       "    }\n",
       "\n",
       "    .dataframe thead th {\n",
       "        text-align: right;\n",
       "    }\n",
       "</style>\n",
       "<table border=\"1\" class=\"dataframe\">\n",
       "  <thead>\n",
       "    <tr style=\"text-align: right;\">\n",
       "      <th></th>\n",
       "      <th>0</th>\n",
       "    </tr>\n",
       "    <tr>\n",
       "      <th>Year</th>\n",
       "      <th></th>\n",
       "    </tr>\n",
       "  </thead>\n",
       "  <tbody>\n",
       "    <tr>\n",
       "      <th>2010</th>\n",
       "      <td>14739.824107</td>\n",
       "    </tr>\n",
       "    <tr>\n",
       "      <th>2011</th>\n",
       "      <td>20846.520726</td>\n",
       "    </tr>\n",
       "    <tr>\n",
       "      <th>2012</th>\n",
       "      <td>27060.398033</td>\n",
       "    </tr>\n",
       "    <tr>\n",
       "      <th>2013</th>\n",
       "      <td>28937.052732</td>\n",
       "    </tr>\n",
       "    <tr>\n",
       "      <th>2014</th>\n",
       "      <td>34151.677615</td>\n",
       "    </tr>\n",
       "    <tr>\n",
       "      <th>2015</th>\n",
       "      <td>35378.277663</td>\n",
       "    </tr>\n",
       "    <tr>\n",
       "      <th>2016</th>\n",
       "      <td>41983.588618</td>\n",
       "    </tr>\n",
       "    <tr>\n",
       "      <th>2017</th>\n",
       "      <td>45459.466842</td>\n",
       "    </tr>\n",
       "    <tr>\n",
       "      <th>2018</th>\n",
       "      <td>51484.280424</td>\n",
       "    </tr>\n",
       "    <tr>\n",
       "      <th>2019</th>\n",
       "      <td>54634.807015</td>\n",
       "    </tr>\n",
       "  </tbody>\n",
       "</table>\n",
       "</div>"
      ],
      "text/plain": [
       "                 0\n",
       "Year              \n",
       "2010  14739.824107\n",
       "2011  20846.520726\n",
       "2012  27060.398033\n",
       "2013  28937.052732\n",
       "2014  34151.677615\n",
       "2015  35378.277663\n",
       "2016  41983.588618\n",
       "2017  45459.466842\n",
       "2018  51484.280424\n",
       "2019  54634.807015"
      ]
     },
     "execution_count": 31,
     "metadata": {},
     "output_type": "execute_result"
    }
   ],
   "source": [
    "sum_ex_value = export_df.sort_values(by='Year').groupby('Year').agg({'Trade_value':'sum'})\n",
    "sum_im_value = import_df.sort_values(by='Year').groupby('Year').agg({'Trade_value':'sum'})\n",
    "Turnover = pd.DataFrame(data=sum_ex_value.values - sum_im_value.values, index= sum_ex_value.index)\n",
    "Turnover"
   ]
  },
  {
   "cell_type": "markdown",
   "metadata": {},
   "source": [
    "Có thể thấy trong tát cả các năm thì kim ngạch xuất khẩu của Việt Nam đều lớn hơn so với nhập khẩu, hay nói cách khác trong giai đoạn 2010-2019 Việt Nam là quốc gia Xuất siêu. Điều này là phản ánh đúng đà phát triển của inh tế Việt Nam trong giai đoạn này."
   ]
  },
  {
   "cell_type": "markdown",
   "metadata": {},
   "source": [
    "Ta sẽ tiến hành phân tích thêm một vài thông tin từ đây."
   ]
  },
  {
   "cell_type": "code",
   "execution_count": 32,
   "metadata": {
    "ExecuteTime": {
     "end_time": "2020-08-27T20:45:55.275860Z",
     "start_time": "2020-08-27T20:45:55.008871Z"
    }
   },
   "outputs": [
    {
     "data": {
      "image/png": "[encoded data removed]",
      "text/plain": [
       "<Figure size 432x288 with 2 Axes>"
      ]
     },
     "metadata": {
      "needs_background": "light"
     },
     "output_type": "display_data"
    },
    {
     "data": {
      "text/plain": [
       "<Figure size 1440x2880 with 0 Axes>"
      ]
     },
     "metadata": {},
     "output_type": "display_data"
    }
   ],
   "source": [
    "y = np.array(sum_ex_value.index)\n",
    "x1 = sum_ex_value.values.flatten()\n",
    "x2 = sum_im_value.values.flatten()\n",
    "fig, axes = plt.subplots(ncols=2, sharey=True)\n",
    "axes[0].barh(y, x1, align='center', color='blue')\n",
    "axes[1].barh(y, x2, align='center', color='green')\n",
    "axes[0].set(title='Xuất khẩu')\n",
    "axes[1].set(title='Nhập khẩu')\n",
    "axes[0].invert_xaxis()\n",
    "# axes[0].set(yticks=y, yticklabels=states)\n",
    "# axes[0].yaxis.tick_right()\n",
    "for ax in axes.flat:\n",
    "    ax.margins(0.03)\n",
    "    ax.grid(True)\n",
    "plt.ylim(2010,2019)\n",
    "plt.xlabel(xlabel=\"(Đv: Triệu USD)\")\n",
    "fig.tight_layout()\n",
    "fig.subplots_adjust(wspace=0)\n",
    "plt.figure(figsize=(20,40))\n",
    "plt.show()"
   ]
  },
  {
   "cell_type": "markdown",
   "metadata": {},
   "source": [
    "- Thông qua biểu đồ trên ta có thể thấy tốc độ tăng trưởng kinh tế của Việt Nam luôn tăng qua từng năm thông qua hai giá trị nhập khẩu và xuất khẩu. Hai giá trị này gần như tăng trưởng cùng tỉ lệ, tuy nhiên giá trị Xuất khẩu luôn lớn hơn.\n",
    "- Để thấy rõ hơn sự so sánh xin mời xem biểu đồ phía dưới đây:"
   ]
  },
  {
   "cell_type": "code",
   "execution_count": 33,
   "metadata": {
    "ExecuteTime": {
     "end_time": "2020-08-27T20:45:55.479812Z",
     "start_time": "2020-08-27T20:45:55.276804Z"
    }
   },
   "outputs": [
    {
     "data": {
      "image/png": "[encoded data removed]",
      "text/plain": [
       "<Figure size 432x288 with 1 Axes>"
      ]
     },
     "metadata": {
      "needs_background": "light"
     },
     "output_type": "display_data"
    }
   ],
   "source": [
    "y = np.array(sum_ex_value.index)\n",
    "x1 = sum_ex_value.values.flatten()\n",
    "x2 = sum_im_value.values.flatten()\n",
    "\n",
    "n = np.arange(len(y))  # the label locations\n",
    "width = 0.35  # the width of the bars\n",
    "\n",
    "fig, ax = plt.subplots()\n",
    "ax.bar(n - width/2, x1, width, label='Xuất khẩu')\n",
    "ax.bar(n + width/2, x2, width, label='Nhập khẩu')\n",
    "\n",
    "ax.set_ylabel('Đơn vị: triệu USD')\n",
    "ax.set_title('BIỂU ĐỒ SO SÁNH GIÁ TRỊ XUẤT NHẬP KHẨU TỪ NĂM 2010 ĐẾN 2019')\n",
    "ax.set_xticks(n)\n",
    "ax.set_xticklabels(y)\n",
    "ax.legend()\n",
    "fig.tight_layout()\n",
    "\n",
    "plt.show()"
   ]
  }
 ],
 "metadata": {
  "kernelspec": {
   "display_name": "Python 3",
   "language": "python",
   "name": "python3"
  },
  "language_info": {
   "codemirror_mode": {
    "name": "ipython",
    "version": 3
   },
   "file_extension": ".py",
   "mimetype": "text/x-python",
   "name": "python",
   "nbconvert_exporter": "python",
   "pygments_lexer": "ipython3",
   "version": "3.7.4"
  }
 },
 "nbformat": 4,
 "nbformat_minor": 2
}
